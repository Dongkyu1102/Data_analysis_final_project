{
  "cells": [
    {
      "cell_type": "code",
      "source": [
        "# 해당 크롤링은 colab 대신에 vs_code로 수행함."
      ],
      "metadata": {
        "id": "-D9a50NnFSIZ"
      },
      "execution_count": null,
      "outputs": []
    },
    {
      "cell_type": "code",
      "source": [
        "pip install pandas"
      ],
      "metadata": {
        "id": "fLj1f_G2EWvb"
      },
      "execution_count": null,
      "outputs": []
    },
    {
      "cell_type": "code",
      "source": [
        "pip install selenium"
      ],
      "metadata": {
        "id": "ubPVCPp_EbPf"
      },
      "execution_count": null,
      "outputs": []
    },
    {
      "cell_type": "code",
      "source": [
        "pip install bs4"
      ],
      "metadata": {
        "id": "UQg1qw36EcIA"
      },
      "execution_count": null,
      "outputs": []
    },
    {
      "cell_type": "code",
      "source": [
        "pip install webdriver_manager"
      ],
      "metadata": {
        "id": "xh3tZ-EdEcF4"
      },
      "execution_count": null,
      "outputs": []
    },
    {
      "cell_type": "code",
      "source": [
        "pip install tqdm"
      ],
      "metadata": {
        "id": "7H2SXHM-EcDQ"
      },
      "execution_count": null,
      "outputs": []
    },
    {
      "cell_type": "code",
      "source": [
        "pip install lxml"
      ],
      "metadata": {
        "id": "yXDqPN4pEcAh"
      },
      "execution_count": null,
      "outputs": []
    },
    {
      "cell_type": "code",
      "source": [
        "pip install openpyxl"
      ],
      "metadata": {
        "id": "ZHgCN818Eb94"
      },
      "execution_count": null,
      "outputs": []
    },
    {
      "cell_type": "code",
      "source": [
        "pip install ipywidgets"
      ],
      "metadata": {
        "id": "KiBhd33eEhpC"
      },
      "execution_count": null,
      "outputs": []
    },
    {
      "cell_type": "code",
      "source": [
        "pip install --upgrade jupyter ipywidgets"
      ],
      "metadata": {
        "id": "xkS8yBIXEiwQ"
      },
      "execution_count": null,
      "outputs": []
    },
    {
      "cell_type": "code",
      "execution_count": null,
      "metadata": {
        "id": "fjmM9a1FC6vW"
      },
      "outputs": [],
      "source": [
        "from bs4 import BeautifulSoup\n",
        "import time\n",
        "import re\n",
        "from selenium import webdriver # 브라우저를 조작하는 모듈\n",
        "from selenium.webdriver.chrome.service import Service # 크롬 드라이버의 시작과 중지를 담당하는 클래스\n",
        "from selenium.webdriver.common.by import By # 엘리먼트를 어떤 방식으로 선택할 지에 대한 상수\n",
        "from webdriver_manager.chrome import ChromeDriverManager # 크롬 드라이버를 관리\n",
        "import pandas as pd\n",
        "from tqdm.auto import tqdm\n",
        "from selenium.webdriver import ActionChains\n",
        "from selenium.webdriver.support import expected_conditions as EC\n",
        "from selenium.webdriver.support.ui import WebDriverWait"
      ]
    },
    {
      "cell_type": "markdown",
      "metadata": {
        "id": "NqQshYM_C6vZ"
      },
      "source": [
        "#### 저는 명시적 대기를 사용하였지만 암묵적 대기를 사용하시면 더 빠르게 실행되게 할 수도 있습니다."
      ]
    },
    {
      "cell_type": "code",
      "execution_count": null,
      "metadata": {
        "id": "p7qoHZq2C6vb"
      },
      "outputs": [],
      "source": [
        "DATA_PATH = \"C:/Users/\""
      ]
    },
    {
      "cell_type": "code",
      "execution_count": null,
      "metadata": {
        "id": "HJnjgPzGC6vd"
      },
      "outputs": [],
      "source": [
        "def influence_searching(ID):\n",
        "    url = \"https://www.instagram.com/\" + str(ID)\n",
        "    return url"
      ]
    },
    {
      "cell_type": "code",
      "execution_count": null,
      "metadata": {
        "id": "ggLvoE3eC6vd"
      },
      "outputs": [],
      "source": [
        "def select_first(driver):\n",
        "    first = driver.find_elements(By.CSS_SELECTOR, \"div._aagw\")[0]\n",
        "    first.click()\n",
        "    time.sleep(3)"
      ]
    },
    {
      "cell_type": "code",
      "execution_count": null,
      "metadata": {
        "id": "d7NqFsfiC6vd"
      },
      "outputs": [],
      "source": [
        "def get_content(driver):\n",
        "    html = driver.page_source\n",
        "    soup = BeautifulSoup(html, 'lxml')\n",
        "\n",
        "    # 본문 내용\n",
        "    try:\n",
        "        content = soup.select('div._a9zs')[0].text\n",
        "    except:\n",
        "        content = ''\n",
        "    # 해시 태그\n",
        "    tags = re.findall(r'#[^\\s#,\\\\]+', content)\n",
        "    # 작성 일자\n",
        "    date = soup.select('time._aaqe')[0]['datetime'][:10]\n",
        "    # 좋아요\n",
        "    try:\n",
        "        like = soup.select('section._ae5m._ae5n._ae5o > div > div > span > a > span')[0].text\n",
        "        like = re.findall(r'[0-9]+', like)[0]\n",
        "    except:\n",
        "        like = 0\n",
        "\n",
        "    # 댓글 더보기 클릭\n",
        "    action = ActionChains(driver)\n",
        "    for _ in range(100):\n",
        "        try:\n",
        "            next_coment = driver.find_element(By.XPATH, '/html/body/div[2]/div/div/div[3]/div/div/div[1]/div/div[3]/div/div/div/div/div[2]/div/article/div/div[2]/div/div/div[2]/div[1]/ul/li/div/button')\n",
        "            action.move_to_element(next_coment).perform()\n",
        "            driver.implicitly_wait(2)\n",
        "            # time.sleep(1.5)\n",
        "            next_coment.click()\n",
        "            driver.implicitly_wait(1)\n",
        "            # time.sleep(0.5)\n",
        "        except:\n",
        "            break\n",
        "    # 아이디 및 댓글 수집\n",
        "    html = driver.page_source\n",
        "    soup = BeautifulSoup(html, 'lxml')\n",
        "    WebDriverWait(driver, 5).until(EC.presence_of_element_located((By.CSS_SELECTOR, \"h3._a9zc\")))\n",
        "    try:\n",
        "        username = [username.div.div.div.a.get_text() for username in soup.find_all('h3', {'class' :'_a9zc'})]\n",
        "        comments = [coment.get_text() for coment in soup.find_all('span', {'class':'_aacl _aaco _aacu _aacx _aad7 _aade'})]\n",
        "    except:\n",
        "        username = ''\n",
        "        comments = ''\n",
        "\n",
        "    content = re.sub(r'#[^\\s#,\\\\]+', \"\", content)\n",
        "    data = [content, username, comments, date, like, tags]\n",
        "    return data"
      ]
    },
    {
      "cell_type": "code",
      "execution_count": null,
      "metadata": {
        "id": "iB3mMJGfC6ve"
      },
      "outputs": [],
      "source": [
        "def move_next(driver):\n",
        "    right = driver.find_element(By.CSS_SELECTOR, 'div._aaqg._aaqh')\n",
        "    right.click()\n",
        "    time.sleep(1.5)"
      ]
    },
    {
      "cell_type": "code",
      "execution_count": null,
      "metadata": {
        "id": "WaoOjOInC6ve"
      },
      "outputs": [],
      "source": [
        "# 인스타그램에 로그인\n",
        "options = webdriver.ChromeOptions()\n",
        "options.add_argument('--start-maximized') # 전체 화면\n",
        "options.add_argument(\"--incognito\") # 시크릿 모드\n",
        "driver = webdriver.Chrome(\n",
        "    service=Service(ChromeDriverManager().install()),\n",
        "    options=options\n",
        ")\n",
        "\n",
        "driver.get('https://www.instagram.com')\n",
        "time.sleep(3)\n",
        "\n",
        "email = str(input('아이디:')) # 아이디 입력\n",
        "input_id = driver.find_element(By.CSS_SELECTOR, '#loginForm > div > div:nth-child(1) > div > label > input').send_keys(email)\n",
        "\n",
        "password = str(input('비밀번호:')) # 페스워드 입력\n",
        "input_pw = driver.find_element(By.CSS_SELECTOR, '#loginForm > div > div:nth-child(2) > div > label > input').send_keys(password)\n",
        "time.sleep(1)\n",
        "\n",
        "driver.find_element(By.CSS_SELECTOR, \"#loginForm > div > div:nth-child(3)\").click()"
      ]
    },
    {
      "cell_type": "code",
      "execution_count": null,
      "metadata": {
        "id": "PS8YTDfxC6ve"
      },
      "outputs": [],
      "source": [
        "df = pd.read_excel(f\"{DATA_PATH}인플루언서 리스트.xlsx\")\n",
        "id_list = df['ID'].iloc[:]\n",
        "\n",
        "id_list"
      ]
    },
    {
      "cell_type": "code",
      "execution_count": null,
      "metadata": {
        "id": "F6cX1gDSC6vh"
      },
      "outputs": [],
      "source": [
        "# 한명의 인플루언서마다 게시글 100개 크롤링\n",
        "target = 100\n",
        "for infuluence in tqdm(id_list, desc=\"outer\", position=0):\n",
        "    driver.get(f'https://www.instagram.com/{infuluence}/')\n",
        "\n",
        "    WebDriverWait(driver, 10).until(EC.presence_of_element_located((By.CSS_SELECTOR, \"span._ac2a\")))\n",
        "    count = int(driver.find_element(By.CSS_SELECTOR, \"span._ac2a\").text)\n",
        "\n",
        "    driver.implicitly_wait(10)\n",
        "\n",
        "    select_first(driver)\n",
        "    results = []\n",
        "    for j in tqdm(range(target), desc=\"inner\", position=1):\n",
        "        driver.implicitly_wait(10)\n",
        "        if j >= count:\n",
        "            break\n",
        "        try:\n",
        "            data = get_content(driver)\n",
        "            results.append(data)\n",
        "            move_next(driver)\n",
        "        except:\n",
        "            time.sleep(2)\n",
        "            move_next(driver)\n",
        "\n",
        "        time.sleep(3)\n",
        "\n",
        "    results_df = pd.DataFrame(results)\n",
        "    results_df.columns = ['content','username', 'comments', 'date', 'like', 'tags']\n",
        "    results_df.to_csv(f'{DATA_PATH}_{infuluence}_{count}insta_crawling.csv', encoding='utf-8-sig')\n",
        "    # 다음 ID로 넘어가기전 너무 빠르게 하면 오류 및 사람인지 확인하는 메시지가 떠서 저는 우선 30초를 줬습니다.\n",
        "    # 본인이 해보시고 오류가 안나는 선에서 시간을 정하시면 됩니다.\n",
        "\n",
        "    time.sleep(30)\n",
        "driver.quit()"
      ]
    },
    {
      "cell_type": "code",
      "execution_count": null,
      "metadata": {
        "id": "9GtxAGCyC6vh"
      },
      "outputs": [],
      "source": []
    }
  ],
  "metadata": {
    "kernelspec": {
      "display_name": "Python 3",
      "language": "python",
      "name": "python3"
    },
    "language_info": {
      "codemirror_mode": {
        "name": "ipython",
        "version": 3
      },
      "file_extension": ".py",
      "mimetype": "text/x-python",
      "name": "python",
      "nbconvert_exporter": "python",
      "pygments_lexer": "ipython3",
      "version": "3.8.5"
    },
    "orig_nbformat": 4,
    "colab": {
      "provenance": []
    }
  },
  "nbformat": 4,
  "nbformat_minor": 0
}