{
  "cells": [
    {
      "cell_type": "markdown",
      "metadata": {
        "id": "view-in-github",
        "colab_type": "text"
      },
      "source": [
        "<a href=\"https://colab.research.google.com/github/Dongkyu1102/Data_analysis_final_project/blob/main/%EC%97%91%EC%85%80_%EB%B3%91%ED%95%A9_%EC%BD%94%EB%93%9C.ipynb\" target=\"_parent\"><img src=\"https://colab.research.google.com/assets/colab-badge.svg\" alt=\"Open In Colab\"/></a>"
      ]
    },
    {
      "cell_type": "code",
      "execution_count": null,
      "metadata": {
        "id": "m2Sqtg57UX0j"
      },
      "outputs": [],
      "source": [
        "import pandas as pd"
      ]
    },
    {
      "cell_type": "code",
      "execution_count": null,
      "metadata": {
        "id": "srl-C9WKUX0l"
      },
      "outputs": [],
      "source": [
        "DATA_PATH = \"C:/Users/Admin/Desktop/\""
      ]
    },
    {
      "cell_type": "code",
      "execution_count": null,
      "metadata": {
        "id": "iIeJqYIKUX0m"
      },
      "outputs": [],
      "source": [
        "influencer_list = pd.read_csv(f\"{DATA_PATH}influencer_list.csv\", encoding='utf-8-sig')\n",
        "influencer_list"
      ]
    },
    {
      "cell_type": "code",
      "execution_count": null,
      "metadata": {
        "id": "znlYHBP4UX0m"
      },
      "outputs": [],
      "source": [
        "address_list = influencer_list[\"인스타 주소\"].iloc[140:210]"
      ]
    },
    {
      "cell_type": "code",
      "execution_count": null,
      "metadata": {
        "id": "zWaXbHd8UX0m"
      },
      "outputs": [],
      "source": [
        "id_list = []\n",
        "for url in address_list:\n",
        "    influence = url.replace(\"/\",\"\")\n",
        "    influence = influence.split('.com')[1]\n",
        "    id_list.append(influence)\n",
        "id_list"
      ]
    },
    {
      "cell_type": "code",
      "execution_count": null,
      "metadata": {
        "id": "EkxAi6d1UX0n"
      },
      "outputs": [],
      "source": [
        "# js_designerh 제거 (인스타계정 삭제된 것)\n",
        "\n",
        "id_list\n",
        "\n",
        "if 'js_designerh' in id_list:\n",
        "    index_to_remove = id_list.index('js_designerh')\n",
        "    id_list.pop(index_to_remove)\n",
        "else:\n",
        "    print(\"'js_designerh' not found in the list.\")\n"
      ]
    },
    {
      "cell_type": "code",
      "execution_count": null,
      "metadata": {
        "id": "-AdGqtu1UX0n"
      },
      "outputs": [],
      "source": [
        "print(id_list)"
      ]
    },
    {
      "cell_type": "code",
      "execution_count": null,
      "metadata": {
        "id": "xd1Z9CvLUX0n"
      },
      "outputs": [],
      "source": [
        "total = pd.DataFrame()\n",
        "for id in id_list:\n",
        "    tmp = pd.read_csv(f\"{DATA_PATH}_{id}_insta_crawling.csv\")\n",
        "\n",
        "    tmp.insert(7, 'id', id)\n",
        "    print(tmp)\n",
        "    total = pd.concat([total, tmp])\n",
        "# total.to_csv(f\"{DATA_PATH}id_list_crawling.csv\")\n",
        "total.to_csv(f\"{DATA_PATH}id_list_crawling.csv\", encoding='utf-8-sig' , index=False)\n"
      ]
    },
    {
      "cell_type": "code",
      "execution_count": null,
      "metadata": {
        "id": "4M4mRoiqUX0n"
      },
      "outputs": [],
      "source": [
        "tmp = pd.read_csv(f\"{DATA_PATH}id_list_crawling.csv\" , encoding='utf-8-sig')\n",
        "# tmp.drop(\"Unnamed: 0.1\", axis=1, inplace=True)\n",
        "tmp.drop(\"Unnamed: 0\", axis=1, inplace=True)\n",
        "tmp.to_csv(f\"{DATA_PATH}id_list_crawling.csv\" , encoding='utf-8-sig')"
      ]
    },
    {
      "cell_type": "code",
      "execution_count": null,
      "metadata": {
        "id": "pww-AeTLUX0n"
      },
      "outputs": [],
      "source": [
        "tmp"
      ]
    },
    {
      "cell_type": "code",
      "execution_count": null,
      "metadata": {
        "id": "_vjEFwDfUX0o"
      },
      "outputs": [],
      "source": []
    }
  ],
  "metadata": {
    "kernelspec": {
      "display_name": "Python 3",
      "language": "python",
      "name": "python3"
    },
    "language_info": {
      "codemirror_mode": {
        "name": "ipython",
        "version": 3
      },
      "file_extension": ".py",
      "mimetype": "text/x-python",
      "name": "python",
      "nbconvert_exporter": "python",
      "pygments_lexer": "ipython3",
      "version": "3.9.13"
    },
    "orig_nbformat": 4,
    "colab": {
      "provenance": [],
      "include_colab_link": true
    }
  },
  "nbformat": 4,
  "nbformat_minor": 0
}