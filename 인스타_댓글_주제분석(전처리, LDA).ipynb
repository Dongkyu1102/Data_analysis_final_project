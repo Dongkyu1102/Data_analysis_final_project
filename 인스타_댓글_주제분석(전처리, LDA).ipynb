{
  "cells": [
    {
      "cell_type": "markdown",
      "metadata": {
        "id": "view-in-github",
        "colab_type": "text"
      },
      "source": [
        "<a href=\"https://colab.research.google.com/github/Dongkyu1102/Data_analysis_final_project/blob/main/%EC%9D%B8%EC%8A%A4%ED%83%80_%EB%8C%93%EA%B8%80_%EC%A3%BC%EC%A0%9C%EB%B6%84%EC%84%9D(%EC%A0%84%EC%B2%98%EB%A6%AC%2C%20LDA).ipynb\" target=\"_parent\"><img src=\"https://colab.research.google.com/assets/colab-badge.svg\" alt=\"Open In Colab\"/></a>"
      ]
    },
    {
      "cell_type": "markdown",
      "metadata": {
        "id": "7LzRgt-nYUqr"
      },
      "source": [
        "# 음식+먹방_댓글_주제분석"
      ]
    },
    {
      "cell_type": "code",
      "execution_count": null,
      "metadata": {
        "id": "CCWiHHxybU1G"
      },
      "outputs": [],
      "source": [
        "pip install pyLDAvis   # 설치후 런타임 재실행 필요"
      ]
    },
    {
      "cell_type": "code",
      "execution_count": null,
      "metadata": {
        "colab": {
          "base_uri": "https://localhost:8080/"
        },
        "id": "eeaf68yq9SP6",
        "outputId": "b737f57d-397a-4aee-ea9e-6e34bab45f59"
      },
      "outputs": [
        {
          "name": "stderr",
          "output_type": "stream",
          "text": [
            "/usr/local/lib/python3.10/dist-packages/ipykernel/ipkernel.py:283: DeprecationWarning: `should_run_async` will not call `transform_cell` automatically in the future. Please pass the result to `transformed_cell` argument and any exception that happen during thetransform in `preprocessing_exc_tuple` in IPython 7.17 and above.\n",
            "  and should_run_async(code)\n"
          ]
        }
      ],
      "source": [
        "import pandas as pd\n",
        "import numpy as np\n",
        "import torch\n",
        "from tqdm.auto import tqdm\n",
        "import random\n",
        "import os\n",
        "import re"
      ]
    },
    {
      "cell_type": "code",
      "execution_count": null,
      "metadata": {
        "id": "uAXMeadS9SP9"
      },
      "outputs": [],
      "source": [
        "from google.colab import drive\n",
        "drive.mount('/content/drive')"
      ]
    },
    {
      "cell_type": "code",
      "execution_count": null,
      "metadata": {
        "id": "o8zAeh2g-YVm"
      },
      "outputs": [],
      "source": [
        "DATA_PATH = \"/content/drive/MyDrive/\""
      ]
    },
    {
      "cell_type": "code",
      "execution_count": null,
      "metadata": {
        "id": "eEvx5xI-9SP9"
      },
      "outputs": [],
      "source": [
        "df = pd.read_csv(f\"{DATA_PATH}결측치_이모티콘_불필요정보_제거_통합데이터.csv\")\n",
        "df"
      ]
    },
    {
      "cell_type": "code",
      "execution_count": null,
      "metadata": {
        "id": "B47Q58qU9SP-"
      },
      "outputs": [],
      "source": [
        "df['분야']\n",
        "df['분야'].unique()\n"
      ]
    },
    {
      "cell_type": "code",
      "execution_count": null,
      "metadata": {
        "id": "O5LaSV819SP_"
      },
      "outputs": [],
      "source": [
        "df_1 = df[df['분야'] == '요리/ 홈쿡/ 집밥']\n",
        "df_1.head()"
      ]
    },
    {
      "cell_type": "code",
      "execution_count": null,
      "metadata": {
        "id": "VYsjyr3h9SP_"
      },
      "outputs": [],
      "source": [
        "df_2 = df[df['분야'] == '맛집/ 먹방']\n",
        "df_2.head()"
      ]
    },
    {
      "cell_type": "code",
      "execution_count": null,
      "metadata": {
        "id": "Wfk3jMYM9SQA"
      },
      "outputs": [],
      "source": [
        "df_3 = df[df['분야'] == '요리/ 먹방/ 맛집/ ']\n",
        "df_3.head()"
      ]
    },
    {
      "cell_type": "code",
      "execution_count": null,
      "metadata": {
        "id": "HQN-YNBx9SQA"
      },
      "outputs": [],
      "source": [
        "df_all = pd.concat([df_1, df_2, df_3])\n",
        "df_all.head()"
      ]
    },
    {
      "cell_type": "code",
      "execution_count": null,
      "metadata": {
        "id": "W4TrYlJp9SQA"
      },
      "outputs": [],
      "source": [
        "df_all['분야'].unique()"
      ]
    },
    {
      "cell_type": "code",
      "execution_count": null,
      "metadata": {
        "id": "lK_qShgo9SQB"
      },
      "outputs": [],
      "source": [
        "df_all['분야'] = '요리+맛집'\n",
        "\n",
        "df_all['분야'].unique()"
      ]
    },
    {
      "cell_type": "code",
      "execution_count": null,
      "metadata": {
        "id": "DW7EsC9n9SQB"
      },
      "outputs": [],
      "source": [
        "df_all"
      ]
    },
    {
      "cell_type": "code",
      "execution_count": null,
      "metadata": {
        "id": "WcZB-NIC9SQC"
      },
      "outputs": [],
      "source": [
        "df_all = df_all.reset_index(drop=False)"
      ]
    },
    {
      "cell_type": "code",
      "execution_count": null,
      "metadata": {
        "id": "Tg7An_2j9SQC"
      },
      "outputs": [],
      "source": [
        "df_all.head()"
      ]
    },
    {
      "cell_type": "code",
      "execution_count": null,
      "metadata": {
        "id": "QD0bb87w9SQC"
      },
      "outputs": [],
      "source": [
        "df_all.loc[:]"
      ]
    },
    {
      "cell_type": "code",
      "execution_count": null,
      "metadata": {
        "id": "FZ7PhhrT9SQD"
      },
      "outputs": [],
      "source": [
        "df_all['comments']"
      ]
    },
    {
      "cell_type": "code",
      "execution_count": null,
      "metadata": {
        "id": "uTEovWS-9SQD"
      },
      "outputs": [],
      "source": [
        "df_all['comments'][:]"
      ]
    },
    {
      "cell_type": "code",
      "execution_count": null,
      "metadata": {
        "id": "5GR9Jcu79SQD"
      },
      "outputs": [],
      "source": [
        "a = df_all['comments'][0]\n",
        "a[:5]"
      ]
    },
    {
      "cell_type": "code",
      "execution_count": null,
      "metadata": {
        "id": "jQfI4LLD9SQD"
      },
      "outputs": [],
      "source": [
        "import ast\n",
        "\n",
        "b = ast.literal_eval(df_all['comments'][0])\n",
        "b[:2]"
      ]
    },
    {
      "cell_type": "code",
      "execution_count": null,
      "metadata": {
        "id": "DJM_hNtT9SQE"
      },
      "outputs": [],
      "source": [
        "len(b[0])"
      ]
    },
    {
      "cell_type": "code",
      "execution_count": null,
      "metadata": {
        "id": "kDQCz6FI9SQE"
      },
      "outputs": [],
      "source": [
        "df_all_total_A = []  # 빈 리스트 생성\n",
        "\n",
        "# df_all['comments']에 있는 각 문자열을 파이썬 리스트로 변환하여 df_all_total에 추가\n",
        "for x in df_all['comments']:\n",
        "    ast.literal_eval(x)\n",
        "    df_all_total_A.append(ast.literal_eval(x))\n",
        "\n",
        "df_all_total_A"
      ]
    },
    {
      "cell_type": "code",
      "execution_count": null,
      "metadata": {
        "id": "WAOnewll9SQE"
      },
      "outputs": [],
      "source": [
        "df_all_total_A[0]"
      ]
    },
    {
      "cell_type": "code",
      "execution_count": null,
      "metadata": {
        "id": "m50yO_aJ9SQE"
      },
      "outputs": [],
      "source": [
        "df_all_total_A[0][0]"
      ]
    },
    {
      "cell_type": "code",
      "execution_count": null,
      "metadata": {
        "id": "qTv2-l7F9SQE"
      },
      "outputs": [],
      "source": [
        "df_all_total_A[-1][-1]"
      ]
    },
    {
      "cell_type": "code",
      "execution_count": null,
      "metadata": {
        "id": "t-V6DOO-9SQF"
      },
      "outputs": [],
      "source": [
        "len(df_all_total_A)\n",
        "# 게시글 수와 같음"
      ]
    },
    {
      "cell_type": "code",
      "execution_count": null,
      "metadata": {
        "colab": {
          "background_save": true
        },
        "id": "U7rmcGhI9SQF"
      },
      "outputs": [],
      "source": [
        "df_all_total_B = []  # 빈 리스트 생성\n",
        "\n",
        "for x in df_all['comments']:\n",
        "    ast.literal_eval(x)\n",
        "    df_all_total_B.extend(ast.literal_eval(x))\n",
        "\n",
        "df_all_total_B"
      ]
    },
    {
      "cell_type": "code",
      "execution_count": null,
      "metadata": {
        "colab": {
          "background_save": true
        },
        "id": "n7Q4G61D9SQF"
      },
      "outputs": [],
      "source": [
        "df_all_total_B[0]"
      ]
    },
    {
      "cell_type": "code",
      "execution_count": null,
      "metadata": {
        "colab": {
          "background_save": true
        },
        "id": "61ttvC0g9SQF"
      },
      "outputs": [],
      "source": [
        "df_all_total_B[-1]"
      ]
    },
    {
      "cell_type": "code",
      "execution_count": null,
      "metadata": {
        "colab": {
          "background_save": true
        },
        "id": "SleXH9oO9SQF"
      },
      "outputs": [],
      "source": [
        "len(df_all_total_B)\n",
        "# 모든 게시글들의 댓글 갯수의 총 합"
      ]
    },
    {
      "cell_type": "code",
      "execution_count": null,
      "metadata": {
        "colab": {
          "background_save": true
        },
        "id": "ojPEGW6E9SQG"
      },
      "outputs": [],
      "source": [
        "df_all_total_B[220816]"
      ]
    },
    {
      "cell_type": "code",
      "execution_count": null,
      "metadata": {
        "id": "eKOxhHiJ9SQG"
      },
      "outputs": [],
      "source": [
        "df_all_total_A"
      ]
    },
    {
      "cell_type": "code",
      "execution_count": null,
      "metadata": {
        "id": "QO1XHmPH9SQG"
      },
      "outputs": [],
      "source": [
        "df_all_total_B"
      ]
    },
    {
      "cell_type": "code",
      "execution_count": null,
      "metadata": {
        "id": "You0nIQGAd6S"
      },
      "outputs": [],
      "source": [
        "pip install --upgrade pip"
      ]
    },
    {
      "cell_type": "markdown",
      "metadata": {
        "id": "l79Om3Jb6jV1"
      },
      "source": [
        "#kiwi를 이용한 형태소 분리"
      ]
    },
    {
      "cell_type": "code",
      "execution_count": null,
      "metadata": {
        "id": "CrDQzjLvFtuy"
      },
      "outputs": [],
      "source": [
        "pip install kiwipiepy"
      ]
    },
    {
      "cell_type": "code",
      "execution_count": null,
      "metadata": {
        "id": "pIQuua0f_jRM"
      },
      "outputs": [],
      "source": [
        "from kiwipiepy import Kiwi\n",
        "from kiwipiepy.utils import Stopwords\n",
        "\n",
        "kiwi = Kiwi()\n",
        "stopwords = Stopwords()"
      ]
    },
    {
      "cell_type": "code",
      "execution_count": null,
      "metadata": {
        "id": "cyX0Fv2XTSOS"
      },
      "outputs": [],
      "source": [
        "text = kiwi.tokenize(df_all_total_B[0])\n",
        "text[0], text[0].tag[0] in \"NNP\""
      ]
    },
    {
      "cell_type": "code",
      "execution_count": null,
      "metadata": {
        "id": "Gcej6DFcb6y3"
      },
      "outputs": [],
      "source": [
        "text"
      ]
    },
    {
      "cell_type": "code",
      "execution_count": null,
      "metadata": {
        "id": "e9HiW7_B3SMM"
      },
      "outputs": [],
      "source": [
        "train_list = []\n",
        "\n",
        "comments_text = kiwi.tokenize(df_all_total_B, stopwords=stopwords)\n",
        "\n",
        "for tokens in tqdm(comments_text, total=len(df_all_total_B)):\n",
        "    tokens = [t.form for t in tokens if t.tag in (\"NNG\", \"NNP\", \"NNB\", \"NR\", \"NP\", \"VV\", \"VA\", \"XR\")]    # NNG:일반 명사 / NNP: 고유 명사 / NNB: 의존 명사 / NR: 수사 / NP: 대명사 / VV: 동사 / VA: 형용사 / XR: 어근\n",
        "    train_list.append(tokens)\n",
        "\n",
        "train_list"
      ]
    },
    {
      "cell_type": "code",
      "execution_count": null,
      "metadata": {
        "id": "MZPP8zcbSysN"
      },
      "outputs": [],
      "source": [
        "# 일반명사만\n",
        "\n",
        "train_list_NNG = []\n",
        "\n",
        "comments_text = kiwi.tokenize(df_all_total_B, stopwords=stopwords)\n",
        "\n",
        "for tokens in tqdm(comments_text, total=len(df_all_total_B)):\n",
        "    tokens = [t.form for t in tokens if t.tag in (\"NNG\")]    # NNG:일반 명사 / NNP: 고유 명사 / NNB: 의존 명사 / NR: 수사 / NP: 대명사 / VV: 동사 / VA: 형용사 / XR: 어근\n",
        "    train_list_NNG.append(tokens)\n",
        "\n",
        "train_list_NNG"
      ]
    },
    {
      "cell_type": "code",
      "execution_count": null,
      "metadata": {
        "id": "FtbRjE0dPdok"
      },
      "outputs": [],
      "source": [
        "# 명사만\n",
        "\n",
        "train_list_noun = []\n",
        "\n",
        "comments_text = kiwi.tokenize(df_all_total_B, stopwords=stopwords)\n",
        "\n",
        "for tokens in tqdm(comments_text, total=len(df_all_total_B)):\n",
        "    tokens = [t.form for t in tokens if t.tag in (\"NNG\", \"NNP\", \"NNB\", \"NR\", \"NP\")]    # NNG:일반 명사 / NNP: 고유 명사 / NNB: 의존 명사 / NR: 수사 / NP: 대명사 / VV: 동사 / VA: 형용사 / XR: 어근\n",
        "    train_list_noun.append(tokens)\n",
        "\n",
        "train_list_noun"
      ]
    },
    {
      "cell_type": "code",
      "execution_count": null,
      "metadata": {
        "id": "ulXaJw-eyl1E"
      },
      "outputs": [],
      "source": [
        "train_fine_lst= []\n",
        "for i in range(len(train_list)):\n",
        "    train_fine_lst += train_list[i]   #   += 연산자는 append() 메서드와 동일한 기능\n",
        "\n",
        "train_fine_lst"
      ]
    },
    {
      "cell_type": "code",
      "execution_count": null,
      "metadata": {
        "id": "SojkwU6IQt7w"
      },
      "outputs": [],
      "source": [
        "# 명사만\n",
        "\n",
        "train_fine_noun_lst= []\n",
        "for i in range(len(train_list_noun)):\n",
        "    train_fine_noun_lst += train_list_noun[i]   #   += 연산자는 append() 메서드와 동일한 기능\n",
        "\n",
        "train_fine_noun_lst"
      ]
    },
    {
      "cell_type": "code",
      "execution_count": null,
      "metadata": {
        "id": "AZ3FU-l7Wada"
      },
      "outputs": [],
      "source": [
        "# 일반명사만\n",
        "\n",
        "train_fine_NNG_lst= []\n",
        "for i in range(len(train_list_NNG)):\n",
        "    train_fine_NNG_lst += train_list_NNG[i]   #   += 연산자는 append() 메서드와 동일한 기능\n",
        "\n",
        "train_fine_NNG_lst"
      ]
    },
    {
      "cell_type": "markdown",
      "metadata": {
        "id": "iosFw3uzWXhR"
      },
      "source": [
        "#단어 빈도수 확인"
      ]
    },
    {
      "cell_type": "code",
      "execution_count": null,
      "metadata": {
        "id": "Kv-f52q4RDjA"
      },
      "outputs": [],
      "source": [
        "from collections import Counter\n",
        "vocab_counter = Counter(train_fine_lst)\n",
        "vocab_counter.most_common(50)"
      ]
    },
    {
      "cell_type": "code",
      "execution_count": null,
      "metadata": {
        "id": "j-5rzl74RRj3"
      },
      "outputs": [],
      "source": [
        "from collections import Counter\n",
        "vocab_counter = Counter(train_fine_noun_lst)\n",
        "vocab_counter.most_common(100)"
      ]
    },
    {
      "cell_type": "code",
      "execution_count": null,
      "metadata": {
        "id": "bOuHAx5wW9Oa"
      },
      "outputs": [],
      "source": [
        "from collections import Counter\n",
        "vocab_counter = Counter(train_fine_NNG_lst)\n",
        "vocab_counter.most_common(100)"
      ]
    },
    {
      "cell_type": "markdown",
      "metadata": {
        "id": "YeNYP8iHCjKD"
      },
      "source": [
        "# kiwi에 미등록된 명사 추출"
      ]
    },
    {
      "cell_type": "code",
      "execution_count": null,
      "metadata": {
        "id": "TIkZT9R_Ck_c"
      },
      "outputs": [],
      "source": [
        "none_words = kiwi.extract_words(df_all['comments'], min_cnt=50, max_word_len=10, min_score=0.10)\n",
        "none_words"
      ]
    },
    {
      "cell_type": "code",
      "execution_count": null,
      "metadata": {
        "id": "TTi8BFi3bFQ1"
      },
      "outputs": [],
      "source": [
        "min(len(lst) for lst in train_list_NNG)"
      ]
    },
    {
      "cell_type": "code",
      "execution_count": null,
      "metadata": {
        "id": "Pc9g_l-8bxQC"
      },
      "outputs": [],
      "source": [
        "df_all[df_all['comments'] == '[]']"
      ]
    },
    {
      "cell_type": "code",
      "execution_count": null,
      "metadata": {
        "id": "9s0RhS9LcqCV"
      },
      "outputs": [],
      "source": [
        "mask = df_all['comments'] == '[]'\n",
        "df_all = df_all[~mask]"
      ]
    },
    {
      "cell_type": "markdown",
      "metadata": {
        "id": "COceM-rvdnyt"
      },
      "source": [
        "#LDA"
      ]
    },
    {
      "cell_type": "code",
      "execution_count": null,
      "metadata": {
        "id": "1dcyKTzNdphc"
      },
      "outputs": [],
      "source": [
        "from gensim.models.ldamodel import LdaModel\n",
        "from gensim.models.callbacks import CoherenceMetric\n",
        "from gensim import corpora\n",
        "from gensim.models.callbacks import PerplexityMetric\n",
        "\n",
        "import logging"
      ]
    },
    {
      "cell_type": "code",
      "execution_count": null,
      "metadata": {
        "id": "bTIOmiyBMOsP"
      },
      "outputs": [],
      "source": []
    },
    {
      "cell_type": "code",
      "execution_count": null,
      "metadata": {
        "id": "JjsnOmbidtTq"
      },
      "outputs": [],
      "source": [
        "dic=corpora.Dictionary(train_list_NNG)\n",
        "dic"
      ]
    },
    {
      "cell_type": "code",
      "execution_count": null,
      "metadata": {
        "id": "ZaPiekHBduww"
      },
      "outputs": [],
      "source": [
        "# 빈도수 2이상, 전체 50% 이상 차지하는 단어 필터링\n",
        "dic.filter_extremes(no_below=2, no_above=0.5)"
      ]
    },
    {
      "cell_type": "code",
      "execution_count": null,
      "metadata": {
        "id": "3rXaSrnSdwEG"
      },
      "outputs": [],
      "source": [
        "# bag of words -> 사전 속의 단어가 문장에서 몇 번 출현하는지 빈도를 세서 벡터화\n",
        "corpus = [dic.doc2bow(train_NNG) for train_NNG in train_list_NNG]\n",
        "corpus"
      ]
    },
    {
      "cell_type": "code",
      "execution_count": null,
      "metadata": {
        "id": "CsAc-vAZl_Ab"
      },
      "outputs": [],
      "source": [
        "corpus = [doc for doc in corpus if doc]\n",
        "corpus\n"
      ]
    },
    {
      "cell_type": "code",
      "execution_count": null,
      "metadata": {
        "colab": {
          "base_uri": "https://localhost:8080/",
          "height": 196,
          "referenced_widgets": [
            "042fba727b3746e2aa7a858dc1f7455d",
            "c825c2721d0a4361942c913efc2fdcc1",
            "29f422cebc51496f848a6db4db7bac3a",
            "03f70108f0d94834ae8a4c284f4c104f",
            "f8084b1b3ddf4390991d759b75ac3dc1",
            "2e56d38f5aba4b0cb76e5bc7d5da2a96",
            "017fc97c8bf745759580a827d01da940",
            "06e3eb288a8c4f9ba119ac3c502fcae0",
            "8cbb7b788e0c44f29641071b089b70c7",
            "d9090134012745a8a97608b5b308b826",
            "fe530f3a6e964c85818b8cb69d541f4b"
          ]
        },
        "id": "JlyOoPO1i4sN",
        "outputId": "0f87be62-00af-45a1-9995-65eaacd51d44"
      },
      "outputs": [
        {
          "data": {
            "application/vnd.jupyter.widget-view+json": {
              "model_id": "042fba727b3746e2aa7a858dc1f7455d",
              "version_major": 2,
              "version_minor": 0
            },
            "text/plain": [
              "  0%|          | 0/13 [00:00<?, ?it/s]"
            ]
          },
          "metadata": {},
          "output_type": "display_data"
        },
        {
          "name": "stderr",
          "output_type": "stream",
          "text": [
            "WARNING:gensim.models.ldamodel:updated prior is not positive\n",
            "WARNING:gensim.models.ldamodel:updated prior is not positive\n",
            "WARNING:gensim.models.ldamodel:updated prior is not positive\n",
            "WARNING:gensim.models.ldamodel:updated prior is not positive\n",
            "WARNING:gensim.models.ldamodel:updated prior is not positive\n",
            "WARNING:gensim.models.ldamodel:updated prior is not positive\n",
            "WARNING:gensim.models.ldamodel:updated prior is not positive\n",
            "WARNING:gensim.models.ldamodel:updated prior is not positive\n"
          ]
        }
      ],
      "source": [
        "from gensim.models.nmf import CoherenceModel\n",
        "\n",
        "chunksize = 2000\n",
        "passes = 20\n",
        "iterations = 400\n",
        "eval_every = None\n",
        "id2word = dic.id2token\n",
        "\n",
        "coherence_values = []\n",
        "\n",
        "for i in tqdm(range(2,15)):\n",
        "    model = LdaModel(\n",
        "        corpus=corpus,\n",
        "        id2word=dic,   #id2word -> dic을 변경하니 실행됨. 그러나 이 베이스라인 코드를 짠 수길님은 id2word로 잘 작동됨 why?\n",
        "        chunksize=chunksize,\n",
        "        alpha='auto',\n",
        "        eta='auto',\n",
        "        iterations=iterations,\n",
        "        num_topics=i, # 최적의 토픽수 찾아보기\n",
        "        passes=passes,\n",
        "        eval_every=eval_every\n",
        "    )\n",
        "    coherence_model_lda = CoherenceModel(model=model, texts = train_list_NNG, dictionary=dic, topn=10)\n",
        "    coherence_lda = coherence_model_lda.get_coherence()\n",
        "    coherence_values.append(coherence_lda)"
      ]
    },
    {
      "cell_type": "code",
      "execution_count": null,
      "metadata": {
        "id": "Tz_HAwowdUxK"
      },
      "outputs": [],
      "source": [
        "import pickle"
      ]
    },
    {
      "cell_type": "code",
      "execution_count": null,
      "metadata": {
        "id": "RSr3nB5GZ9mS"
      },
      "outputs": [],
      "source": [
        "# 저장할 경로 설정\n",
        "DATA_PATH = \"/content/drive/MyDrive/\"\n",
        "coherence_values_file = os.path.join(DATA_PATH, 'coherence_values.pkl')\n",
        "\n",
        "# 결과값 저장\n",
        "with open(coherence_values_file, 'wb') as f:\n",
        "    pickle.dump(coherence_values, f)"
      ]
    },
    {
      "cell_type": "code",
      "execution_count": null,
      "metadata": {
        "id": "av0r-PFkYEJp"
      },
      "outputs": [],
      "source": [
        "# 불러올 경로 설정\n",
        "DATA_PATH = \"/content/drive/MyDrive/\"\n",
        "coherence_values_file = os.path.join(DATA_PATH, 'coherence_values.pkl')\n",
        "\n",
        "# 결과값 불러오기\n",
        "with open(coherence_values_file, 'rb') as f:\n",
        "    coherence_values = pickle.load(f)\n",
        "# 저장된 결과값 활용\n",
        "# coherence_values를 이용하여 그래프 그리기 또는 분석 수행\n"
      ]
    },
    {
      "cell_type": "code",
      "execution_count": null,
      "metadata": {
        "id": "cJTcyqo0dXbr"
      },
      "outputs": [],
      "source": [
        "coherence_values"
      ]
    },
    {
      "cell_type": "code",
      "execution_count": null,
      "metadata": {
        "id": "U_sHcsBO0nMv"
      },
      "outputs": [],
      "source": [
        "import matplotlib.pyplot as plt"
      ]
    },
    {
      "cell_type": "code",
      "execution_count": null,
      "metadata": {
        "colab": {
          "base_uri": "https://localhost:8080/",
          "height": 449
        },
        "id": "w8anui7ly9xx",
        "outputId": "5cd489ec-24b1-4cf5-dc2c-3b49d1b8888b"
      },
      "outputs": [
        {
          "data": {
            "image/png": "[encoded data removed]",
            "text/plain": [
              "<Figure size 640x480 with 1 Axes>"
            ]
          },
          "metadata": {},
          "output_type": "display_data"
        }
      ],
      "source": [
        "x = range(2,15)\n",
        "plt.plot(x, coherence_values)\n",
        "plt.xlabel(\"number of topics\")\n",
        "plt.ylabel(\"coherence score\")\n",
        "plt.show()"
      ]
    },
    {
      "cell_type": "code",
      "execution_count": null,
      "metadata": {
        "id": "Te1sOAa--jza"
      },
      "outputs": [],
      "source": [
        "num_topics = 5\n",
        "chunksize = 2000\n",
        "passes = 20\n",
        "iterations = 400\n",
        "eval_every = None\n",
        "\n",
        "temp = dic[0]\n",
        "id2word = dic.id2token\n",
        "\n",
        "model = LdaModel(\n",
        "    corpus=corpus,\n",
        "    id2word=dic,\n",
        "    chunksize=chunksize,\n",
        "    alpha='auto',\n",
        "    eta='auto',\n",
        "    iterations=iterations,\n",
        "    num_topics=num_topics,\n",
        "    passes=passes,\n",
        "    eval_every=eval_every\n",
        ")"
      ]
    },
    {
      "cell_type": "code",
      "execution_count": null,
      "metadata": {
        "id": "otaTsGoOTGGy"
      },
      "outputs": [],
      "source": [
        "top_topics = model.top_topics(corpus) # num_words=20\n",
        "top_topics"
      ]
    },
    {
      "cell_type": "markdown",
      "metadata": {
        "id": "m2n-RcI6W_cj"
      },
      "source": [
        "# LDA 시각화"
      ]
    },
    {
      "cell_type": "code",
      "execution_count": 138,
      "metadata": {
        "colab": {
          "base_uri": "https://localhost:8080/",
          "height": 917
        },
        "id": "10J5b26AWs1w",
        "outputId": "7f79c308-52d3-46a5-f3fc-7f94287b2df4"
      },
      "outputs": [
        {
          "output_type": "stream",
          "name": "stderr",
          "text": [
            "/usr/local/lib/python3.10/dist-packages/ipykernel/ipkernel.py:283: DeprecationWarning: `should_run_async` will not call `transform_cell` automatically in the future. Please pass the result to `transformed_cell` argument and any exception that happen during thetransform in `preprocessing_exc_tuple` in IPython 7.17 and above.\n",
            "  and should_run_async(code)\n"
          ]
        },
        {
          "output_type": "execute_result",
          "data": {
            "text/plain": [
              "<IPython.core.display.HTML object>"
            ],
            "text/html": [
              "\n",
              "<link rel=\"stylesheet\" type=\"text/css\" href=\"https://cdn.jsdelivr.net/gh/bmabey/pyLDAvis@3.4.0/pyLDAvis/js/ldavis.v1.0.0.css\">\n",
              "\n",
              "\n",
              "<div id=\"ldavis_el268631402049609389447716109421\" style=\"background-color:white;\"></div>\n",
              "<script type=\"text/javascript\">\n",
              "\n",
              "var ldavis_el268631402049609389447716109421_data = {\"mdsDat\": {\"x\": [0.27445385565015024, -0.35073283406006056, 0.07627897840991044], \"y\": [-0.24258482292811587, -0.11258287499366705, 0.355167697921783], \"topics\": [1, 2, 3], \"cluster\": [1, 1, 1], \"Freq\": [35.65764995161028, 35.31991770344269, 29.02243234494703]}, \"tinfo\": {\"Term\": [\"\\ub9db\", \"\\ube44\\uc8fc\\uc5bc\", \"\\uc54c\\ub9bc\", \"\\ubc15\", \"\\ucd5c\\uace0\", \"\\ube44\\uc96c\\uc5bc\", \"\\ubc25\", \"\\uc9d1\", \"\\uc300\", \"\\ud314\", \"\\uace0\\uae30\", \"\\ub77c\\uba74\", \"\\uaddc\", \"\\uad6c\\ub9e4\", \"\\uac08\\ube44\", \"\\uc644\\ub8cc\", \"\\uc548\\uc8fc\", \"\\uc694\\ub9ac\", \"\\uc18c\\ud1b5\", \"\\uce58\\uc988\", \"\\ube75\", \"\\uac10\\uc0ac\", \"\\uc624\\ub298\", \"\\ub9db\\uc9d1\", \"\\ud53c\\uc790\", \"\\uc0ac\\uc9c4\", \"\\uc220\", \"\\uc74c\\uc2dd\", \"\\ud589\\ubcf5\", \"\\uc0ac\\ub791\", \"\\ub9db\", \"\\uc9d1\", \"\\uace0\\uae30\", \"\\ub77c\\uba74\", \"\\uc0ac\\ub791\", \"\\uc220\", \"\\uc785\", \"\\uc870\\ud569\", \"\\ub9e5\\uc8fc\", \"\\uaddc\", \"\\ub208\", \"\\ub3c4\\ub9ac\", \"\\uc800\\uc7a5\", \"\\uc694\\uc998\", \"\\uac74\\uac15\", \"\\uc644\\uc804\", \"\\ubcf5\\uc22d\\uc544\", \"\\ub514\\uc800\\ud2b8\", \"\\uce58\\ud0a8\", \"\\ucee4\\ud53c\", \"\\ubc18\\ucc2c\", \"\\ub2f9\\uc7a5\", \"\\uae40\\uce58\", \"\\ucc1c\", \"\\uc804\", \"\\uad7f\", \"\\uc218\\ubc15\", \"\\uc0c1\", \"\\uc644\\ubcbd\", \"\\ub9dd\\uace0\", \"\\ub0c9\", \"\\ubc25\\uc0c1\", \"\\ub808\\uc2dc\\ud53c\", \"\\ube44\\uc8fc\\uc5bc\", \"\\ucd5c\\uace0\", \"\\ud314\", \"\\ubc25\", \"\\uac08\\ube44\", \"\\uc18c\\ud1b5\", \"\\uc548\\uc8fc\", \"\\uac10\\uc0ac\", \"\\uc624\\ub298\", \"\\uc0ac\\uc9c4\", \"\\ud53c\\ub4dc\", \"\\ud589\\ubcf5\", \"\\uba39\", \"\\uad70\\uce68\", \"\\uacf3\", \"\\ubd84\\uc704\\uae30\", \"\\uba54\\ub274\", \"\\uc5ec\\ub984\", \"\\uc8fc\\ub9d0\", \"\\uc7a5\\ub09c\", \"\\ub0a0\", \"\\ub9c9\\uac78\\ub9ac\", \"\\ud06c\\ub9bc\", \"\\uce68\", \"\\ub2ed\", \"\\uc54c\\ub9bc\", \"\\ube44\\uc920\", \"\\ud558\\ub8e8\", \"\\ub5a1\\ubcf6\\uc774\", \"\\uc794\", \"\\uc300\", \"\\ud0dd\\ubc30\", \"\\uc2e0\\uccad\", \"\\ucee4\\ud130\", \"\\uc870\\uac1c\", \"\\ubc15\", \"\\ube44\\uc96c\\uc5bc\", \"\\uad6c\\ub9e4\", \"\\uc644\\ub8cc\", \"\\uce58\\uc988\", \"\\ube75\", \"\\uc694\\ub9ac\", \"\\ub9db\\uc9d1\", \"\\ud53c\\uc790\", \"\\uc74c\\uc2dd\", \"\\ub300\\ubc15\", \"\\uc18c\\uc8fc\", \"\\uc8fc\\ubb38\", \"\\ud544\\uc694\", \"\\uace0\\uae09\", \"\\uc190\", \"\\uc2a4\\ud14c\\uc774\\ud06c\", \"\\uacf5\\uad6c\", \"\\ub2e4\\uc591\", \"\\ud30c\\uc2a4\\ud0c0\", \"\\uc544\\uce68\", \"\\ubd88\", \"\\ud50c\\ub808\\uc774\\ud305\", \"\\uc81c\\ud488\", \"\\ud1a0\\ud551\", \"\\uae08\", \"\\uc18d\", \"\\uc0c9\\uac10\", \"\\uac01\", \"\\uac00\\ub2a5\", \"\\ud734\\uac00\", \"\\ud574\\uc0b0\\ubb3c\", \"\\uc544\\uc774\"], \"Freq\": [12611.0, 11802.0, 6930.0, 4934.0, 5732.0, 4632.0, 5423.0, 4934.0, 4826.0, 4731.0, 4694.0, 4515.0, 4495.0, 3651.0, 3977.0, 3012.0, 3347.0, 2808.0, 3263.0, 2679.0, 2650.0, 2873.0, 2852.0, 2397.0, 2311.0, 2661.0, 2681.0, 2230.0, 2632.0, 2553.0, 12610.596685061795, 4934.132769579662, 4693.570491153924, 4514.6067252928915, 2552.3628588077468, 2680.3178111307193, 2318.7809682591455, 1986.2594075474876, 1991.6194831796554, 4493.296079561436, 2142.856779308319, 1879.4904156617145, 1963.2681949551786, 1862.9937756772179, 1905.705548494014, 1769.6225865504434, 1771.989021959763, 1819.5281241514526, 1585.1527817303152, 1434.4524079214134, 1644.1469227539994, 1414.2228652238039, 1284.2387442523695, 1455.3403764711452, 1322.5711201110364, 1209.9618054070863, 1263.8801413378987, 1249.274462219555, 1086.2249744861963, 1130.1479048542917, 2125.187262345321, 1366.5996452020183, 1307.5806466635302, 11802.03088292265, 5732.030389375417, 4730.608393950714, 5422.380794320933, 3977.1279490234006, 3262.3689691651925, 3346.6530939544873, 2872.598349979345, 2851.8114082981747, 2660.3885535604736, 2491.8441381517264, 2631.8153234521737, 2385.1606211496396, 2191.7429842797937, 2124.304102223675, 2051.9805941862264, 1981.3504940672187, 1735.1051091608135, 1704.988173357874, 1619.3309246184285, 1584.2932176261766, 2160.038810951346, 1480.8058431022353, 1351.4706068496082, 1354.473318296474, 6926.785715680773, 1306.345333692511, 1253.9809731315981, 1195.142385344525, 1122.8253775352155, 4823.102700832426, 2529.943157132398, 2366.273518874467, 1665.7717060671744, 1470.549566470699, 4933.334728014601, 4631.307560936522, 3650.2718442921337, 3011.6971877070714, 2678.292779723952, 2649.6115740907076, 2807.2080027122497, 2396.7418524369386, 2310.8259399155113, 2229.986964319728, 2108.623132674751, 1943.1556471241413, 1754.1306692478456, 1573.4590791591131, 1216.2060808472866, 1266.8521158372262, 1279.791207612335, 1421.0195443236505, 1139.2116706480929, 1140.4964835188093, 1094.650854490843, 1088.106450206626, 1071.2581315658106, 1125.9992850291687, 963.0921994284033, 869.8156428511513, 932.7736585721597, 863.901101162852, 927.3539106537999, 900.7192931213078, 1250.4412939449048, 1038.1218397311966, 904.5708992535834], \"Total\": [12611.0, 11802.0, 6930.0, 4934.0, 5732.0, 4632.0, 5423.0, 4934.0, 4826.0, 4731.0, 4694.0, 4515.0, 4495.0, 3651.0, 3977.0, 3012.0, 3347.0, 2808.0, 3263.0, 2679.0, 2650.0, 2873.0, 2852.0, 2397.0, 2311.0, 2661.0, 2681.0, 2230.0, 2632.0, 2553.0, 12611.358692454503, 4934.912108196751, 4694.338927072176, 4515.689985321886, 2553.1099443532753, 2681.127111225012, 2319.5329932043355, 1987.002938015777, 1992.3870615817373, 4495.062325167185, 2143.701358774656, 1880.23566354929, 1964.0579178531623, 1863.7613402793, 1906.4969155863555, 1770.4115360582484, 1772.7798368377848, 1820.3434348670958, 1585.9208806295908, 1435.2078615653847, 1645.0336426754357, 1414.986584946802, 1284.9582714343214, 1456.2005175165175, 1323.3821910881068, 1210.7304283643678, 1264.6889937993756, 1250.098295208274, 1087.0000816984802, 1130.954763623879, 2126.8804087521175, 1367.5866974223732, 1308.7232610311703, 11802.833145077257, 5732.814536892863, 4731.334836598909, 5423.269081995923, 3977.972748786953, 3263.0979790811493, 3347.491057142321, 2873.3929235146616, 2852.6082589743305, 2661.1647208529043, 2492.589198505549, 2632.6206900068523, 2385.8929230879376, 2192.5018906346468, 2125.118353599739, 2052.774522605458, 1982.1525438951403, 1735.8964911597527, 1705.7716102317218, 1620.1121050390166, 1585.0852985954148, 2161.166651414129, 1481.6133597165283, 1352.2380693353014, 1355.2533932264075, 6930.899575881583, 1307.1503845846935, 1254.7605776208807, 1195.929902491919, 1123.5856374163218, 4826.896557292404, 2531.676953975867, 2368.942286843196, 1669.4038277006744, 1473.0202041376435, 4934.10242872952, 4632.102618195008, 3651.1399006932693, 3012.5159550591434, 2679.0586360800385, 2650.392661612946, 2808.0458834147294, 2397.5139134053784, 2311.571017602288, 2230.7703781763944, 2109.393962458457, 1944.002817890572, 1754.925655968102, 1574.308585658931, 1216.9284133670799, 1267.6587826561595, 1280.606925546349, 1421.9474303823345, 1139.9579703674585, 1141.251182592257, 1095.3834961156153, 1088.8665572888076, 1072.0245555889508, 1126.8196158904075, 963.8836247201714, 870.5478551643838, 933.5655711247438, 864.6361621659383, 928.1523983974115, 901.5092360079108, 1252.5687392265145, 1039.1225063658264, 905.3738634803684], \"Category\": [\"Default\", \"Default\", \"Default\", \"Default\", \"Default\", \"Default\", \"Default\", \"Default\", \"Default\", \"Default\", \"Default\", \"Default\", \"Default\", \"Default\", \"Default\", \"Default\", \"Default\", \"Default\", \"Default\", \"Default\", \"Default\", \"Default\", \"Default\", \"Default\", \"Default\", \"Default\", \"Default\", \"Default\", \"Default\", \"Default\", \"Topic1\", \"Topic1\", \"Topic1\", \"Topic1\", \"Topic1\", \"Topic1\", \"Topic1\", \"Topic1\", \"Topic1\", \"Topic1\", \"Topic1\", \"Topic1\", \"Topic1\", \"Topic1\", \"Topic1\", \"Topic1\", \"Topic1\", \"Topic1\", \"Topic1\", \"Topic1\", \"Topic1\", \"Topic1\", \"Topic1\", \"Topic1\", \"Topic1\", \"Topic1\", \"Topic1\", \"Topic1\", \"Topic1\", \"Topic1\", \"Topic1\", \"Topic1\", \"Topic1\", \"Topic2\", \"Topic2\", \"Topic2\", \"Topic2\", \"Topic2\", \"Topic2\", \"Topic2\", \"Topic2\", \"Topic2\", \"Topic2\", \"Topic2\", \"Topic2\", \"Topic2\", \"Topic2\", \"Topic2\", \"Topic2\", \"Topic2\", \"Topic2\", \"Topic2\", \"Topic2\", \"Topic2\", \"Topic2\", \"Topic2\", \"Topic2\", \"Topic2\", \"Topic2\", \"Topic2\", \"Topic2\", \"Topic2\", \"Topic2\", \"Topic2\", \"Topic2\", \"Topic2\", \"Topic2\", \"Topic2\", \"Topic3\", \"Topic3\", \"Topic3\", \"Topic3\", \"Topic3\", \"Topic3\", \"Topic3\", \"Topic3\", \"Topic3\", \"Topic3\", \"Topic3\", \"Topic3\", \"Topic3\", \"Topic3\", \"Topic3\", \"Topic3\", \"Topic3\", \"Topic3\", \"Topic3\", \"Topic3\", \"Topic3\", \"Topic3\", \"Topic3\", \"Topic3\", \"Topic3\", \"Topic3\", \"Topic3\", \"Topic3\", \"Topic3\", \"Topic3\", \"Topic3\", \"Topic3\", \"Topic3\"], \"logprob\": [30.0, 29.0, 28.0, 27.0, 26.0, 25.0, 24.0, 23.0, 22.0, 21.0, 20.0, 19.0, 18.0, 17.0, 16.0, 15.0, 14.0, 13.0, 12.0, 11.0, 10.0, 9.0, 8.0, 7.0, 6.0, 5.0, 4.0, 3.0, 2.0, 1.0, -2.8292, -3.7676, -3.8176, -3.8564, -4.4267, -4.3778, -4.5227, -4.6775, -4.6748, -3.8612, -4.6016, -4.7328, -4.6891, -4.7416, -4.7189, -4.793, -4.7916, -4.7652, -4.9031, -5.003, -4.8665, -5.0172, -5.1136, -4.9885, -5.0842, -5.1732, -5.1296, -5.1412, -5.281, -5.2414, -4.6099, -5.0514, -5.0956, -2.886, -3.6082, -3.8002, -3.6637, -3.9737, -4.1718, -4.1463, -4.299, -4.3063, -4.3758, -4.4412, -4.3866, -4.485, -4.5695, -4.6008, -4.6354, -4.6705, -4.8032, -4.8207, -4.8722, -4.8941, -4.5841, -4.9616, -5.053, -5.0508, -3.4188, -5.087, -5.1279, -5.176, -5.2384, -3.7808, -4.426, -4.4929, -4.8439, -4.9686, -3.5618, -3.625, -3.8631, -4.0554, -4.1727, -4.1834, -4.1257, -4.2837, -4.3203, -4.3559, -4.4118, -4.4935, -4.5959, -4.7046, -4.9621, -4.9213, -4.9112, -4.8065, -5.0275, -5.0264, -5.0674, -5.0734, -5.089, -5.0392, -5.1955, -5.2973, -5.2274, -5.3042, -5.2333, -5.2624, -4.9344, -5.1204, -5.2582], \"loglift\": [30.0, 29.0, 28.0, 27.0, 26.0, 25.0, 24.0, 23.0, 22.0, 21.0, 20.0, 19.0, 18.0, 17.0, 16.0, 15.0, 14.0, 13.0, 12.0, 11.0, 10.0, 9.0, 8.0, 7.0, 6.0, 5.0, 4.0, 3.0, 2.0, 1.0, 1.0311, 1.031, 1.031, 1.031, 1.0309, 1.0309, 1.0309, 1.0308, 1.0308, 1.0308, 1.0308, 1.0308, 1.0308, 1.0308, 1.0308, 1.0308, 1.0308, 1.0308, 1.0307, 1.0307, 1.0307, 1.0307, 1.0306, 1.0306, 1.0306, 1.0306, 1.0306, 1.0305, 1.0305, 1.0305, 1.0304, 1.0305, 1.0303, 1.0407, 1.0406, 1.0406, 1.0406, 1.0405, 1.0405, 1.0405, 1.0404, 1.0404, 1.0404, 1.0404, 1.0404, 1.0404, 1.0404, 1.0403, 1.0403, 1.0403, 1.0403, 1.0403, 1.0402, 1.0402, 1.0402, 1.0402, 1.0402, 1.0401, 1.0401, 1.0401, 1.0401, 1.0401, 1.04, 1.0399, 1.04, 1.0396, 1.0385, 1.039, 1.2369, 1.2369, 1.2369, 1.2368, 1.2368, 1.2368, 1.2368, 1.2368, 1.2368, 1.2367, 1.2367, 1.2367, 1.2366, 1.2366, 1.2365, 1.2365, 1.2365, 1.2364, 1.2364, 1.2364, 1.2364, 1.2364, 1.2364, 1.2364, 1.2363, 1.2363, 1.2363, 1.2363, 1.2362, 1.2362, 1.2354, 1.2361, 1.2362]}, \"token.table\": {\"Topic\": [3, 3, 2, 2, 1, 3, 1, 2, 3, 3, 2, 1, 1, 2, 3, 3, 1, 2, 1, 2, 3, 1, 3, 2, 1, 3, 1, 1, 2, 1, 2, 3, 1, 2, 3, 1, 2, 1, 3, 1, 1, 2, 2, 3, 1, 2, 1, 2, 1, 2, 3, 2, 2, 3, 3, 1, 2, 1, 3, 3, 2, 3, 3, 1, 1, 3, 1, 2, 3, 1, 2, 3, 3, 3, 2, 1, 2, 3, 2, 2, 3, 1, 1, 3, 1, 3, 1, 2, 2, 1, 1, 3, 1, 2, 3, 1, 2, 3, 1, 1, 2, 3, 1, 2, 1, 2, 3, 1, 2, 1, 2, 3, 3, 3, 2, 3, 2, 3, 3, 2, 1, 3, 2, 1, 2, 3], \"Freq\": [0.9994351294611625, 0.9987583952814201, 0.9997554662014088, 0.9998632545130024, 0.9997393567320813, 0.9992370846494486, 0.999927800894345, 0.9994737452632487, 0.9993337092763832, 0.9996877959420145, 0.9997710877072487, 0.9993967043800538, 0.9995412020973239, 0.0002224663258618571, 0.0002224663258618571, 0.9993706777161833, 0.9992542392577062, 0.9993153058725758, 0.9991158841162956, 0.0004701721807606097, 0.0004701721807606097, 0.9996728281335526, 0.9991596441339414, 0.9990751594995652, 0.9993027602117945, 0.999813234291238, 0.9993428145347709, 0.9998113351247256, 0.9992224439827273, 0.9998472026812893, 0.00022145010026163663, 0.00022145010026163663, 0.9994473537280903, 0.0007641034814434941, 0.0007641034814434941, 0.000462713044061486, 0.9994601751728098, 0.9999715579848888, 0.9997856473730956, 0.9991557897321908, 0.9998057297253126, 0.9996257488844965, 0.9994185392548671, 0.999776569549286, 0.9993716586405159, 0.9997659931718792, 0.9995709980043832, 0.0007312150680353937, 0.9995601050837898, 0.9996226947495066, 0.9992041657602514, 0.9999294114330842, 0.9991199294294979, 0.9997619616217747, 0.9998518477587743, 0.9995652579099736, 0.9995623266595346, 0.999121432920528, 0.9992642429338778, 0.9994841479233758, 0.9996635163613878, 0.9993941816812477, 0.9994803154719766, 0.9994552069301199, 0.9995796129097001, 0.9995260641386192, 0.00042212932140807006, 0.9987579744514937, 0.00042212932140807006, 0.0004143449059372174, 0.9991927406675999, 0.0004143449059372174, 0.9995870617703374, 0.9996498978513231, 0.9998533059136115, 0.0002885628305681529, 0.9994373636727976, 0.0002885628305681529, 0.9994835572487656, 0.9997867709411494, 0.99982872951817, 0.9990799617080823, 0.999767547798991, 0.9996275404825445, 0.9995915033417391, 0.9996546582364859, 0.9997702152951059, 0.9994787781217385, 0.9993135629099014, 0.9994613611729339, 0.9997112012760331, 0.9992726290181239, 0.0013577546284715548, 0.9986285292408286, 0.0006788773142357774, 0.9994952508642093, 0.999547647394825, 0.9994725383579902, 0.999815172352262, 0.9991755822758771, 0.9998579167549166, 0.9996048477380146, 0.9994193401191457, 0.9990844294629939, 0.0011980324753146558, 0.9979610519371083, 0.0011980324753146558, 0.9991584065293042, 0.999586019043021, 0.00039499510331661864, 0.9993376113910452, 0.00039499510331661864, 0.9990832661770471, 0.9989036746587066, 0.9999292299931262, 0.9990442797381746, 0.9997636198913554, 0.9997529742335668, 0.9991687870657306, 0.999393846416244, 0.0009623504388306905, 0.9989197555062567, 0.9997642311293805, 0.0007983593783583642, 0.0007983593783583642, 0.9979492229479552], \"Term\": [\"\\uac00\\ub2a5\", \"\\uac01\", \"\\uac08\\ube44\", \"\\uac10\\uc0ac\", \"\\uac74\\uac15\", \"\\uace0\\uae09\", \"\\uace0\\uae30\", \"\\uacf3\", \"\\uacf5\\uad6c\", \"\\uad6c\\ub9e4\", \"\\uad70\\uce68\", \"\\uad7f\", \"\\uaddc\", \"\\uaddc\", \"\\uaddc\", \"\\uae08\", \"\\uae40\\uce58\", \"\\ub0a0\", \"\\ub0c9\", \"\\ub0c9\", \"\\ub0c9\", \"\\ub208\", \"\\ub2e4\\uc591\", \"\\ub2ed\", \"\\ub2f9\\uc7a5\", \"\\ub300\\ubc15\", \"\\ub3c4\\ub9ac\", \"\\ub514\\uc800\\ud2b8\", \"\\ub5a1\\ubcf6\\uc774\", \"\\ub77c\\uba74\", \"\\ub77c\\uba74\", \"\\ub77c\\uba74\", \"\\ub808\\uc2dc\\ud53c\", \"\\ub808\\uc2dc\\ud53c\", \"\\ub808\\uc2dc\\ud53c\", \"\\ub9c9\\uac78\\ub9ac\", \"\\ub9c9\\uac78\\ub9ac\", \"\\ub9db\", \"\\ub9db\\uc9d1\", \"\\ub9dd\\uace0\", \"\\ub9e5\\uc8fc\", \"\\uba39\", \"\\uba54\\ub274\", \"\\ubc15\", \"\\ubc18\\ucc2c\", \"\\ubc25\", \"\\ubc25\\uc0c1\", \"\\ubc25\\uc0c1\", \"\\ubcf5\\uc22d\\uc544\", \"\\ubd84\\uc704\\uae30\", \"\\ubd88\", \"\\ube44\\uc8fc\\uc5bc\", \"\\ube44\\uc920\", \"\\ube44\\uc96c\\uc5bc\", \"\\ube75\", \"\\uc0ac\\ub791\", \"\\uc0ac\\uc9c4\", \"\\uc0c1\", \"\\uc0c9\\uac10\", \"\\uc18c\\uc8fc\", \"\\uc18c\\ud1b5\", \"\\uc18d\", \"\\uc190\", \"\\uc218\\ubc15\", \"\\uc220\", \"\\uc2a4\\ud14c\\uc774\\ud06c\", \"\\uc2e0\\uccad\", \"\\uc2e0\\uccad\", \"\\uc2e0\\uccad\", \"\\uc300\", \"\\uc300\", \"\\uc300\", \"\\uc544\\uc774\", \"\\uc544\\uce68\", \"\\uc548\\uc8fc\", \"\\uc54c\\ub9bc\", \"\\uc54c\\ub9bc\", \"\\uc54c\\ub9bc\", \"\\uc5ec\\ub984\", \"\\uc624\\ub298\", \"\\uc644\\ub8cc\", \"\\uc644\\ubcbd\", \"\\uc644\\uc804\", \"\\uc694\\ub9ac\", \"\\uc694\\uc998\", \"\\uc74c\\uc2dd\", \"\\uc785\", \"\\uc794\", \"\\uc7a5\\ub09c\", \"\\uc800\\uc7a5\", \"\\uc804\", \"\\uc81c\\ud488\", \"\\uc870\\uac1c\", \"\\uc870\\uac1c\", \"\\uc870\\uac1c\", \"\\uc870\\ud569\", \"\\uc8fc\\ub9d0\", \"\\uc8fc\\ubb38\", \"\\uc9d1\", \"\\ucc1c\", \"\\ucd5c\\uace0\", \"\\uce58\\uc988\", \"\\uce58\\ud0a8\", \"\\uce68\", \"\\ucee4\\ud130\", \"\\ucee4\\ud130\", \"\\ucee4\\ud130\", \"\\ucee4\\ud53c\", \"\\ud06c\\ub9bc\", \"\\ud0dd\\ubc30\", \"\\ud0dd\\ubc30\", \"\\ud0dd\\ubc30\", \"\\ud1a0\\ud551\", \"\\ud30c\\uc2a4\\ud0c0\", \"\\ud314\", \"\\ud50c\\ub808\\uc774\\ud305\", \"\\ud53c\\ub4dc\", \"\\ud53c\\uc790\", \"\\ud544\\uc694\", \"\\ud558\\ub8e8\", \"\\ud574\\uc0b0\\ubb3c\", \"\\ud574\\uc0b0\\ubb3c\", \"\\ud589\\ubcf5\", \"\\ud734\\uac00\", \"\\ud734\\uac00\", \"\\ud734\\uac00\"]}, \"R\": 30, \"lambda.step\": 0.01, \"plot.opts\": {\"xlab\": \"PC1\", \"ylab\": \"PC2\"}, \"topic.order\": [2, 3, 1]};\n",
              "\n",
              "function LDAvis_load_lib(url, callback){\n",
              "  var s = document.createElement('script');\n",
              "  s.src = url;\n",
              "  s.async = true;\n",
              "  s.onreadystatechange = s.onload = callback;\n",
              "  s.onerror = function(){console.warn(\"failed to load library \" + url);};\n",
              "  document.getElementsByTagName(\"head\")[0].appendChild(s);\n",
              "}\n",
              "\n",
              "if(typeof(LDAvis) !== \"undefined\"){\n",
              "   // already loaded: just create the visualization\n",
              "   !function(LDAvis){\n",
              "       new LDAvis(\"#\" + \"ldavis_el268631402049609389447716109421\", ldavis_el268631402049609389447716109421_data);\n",
              "   }(LDAvis);\n",
              "}else if(typeof define === \"function\" && define.amd){\n",
              "   // require.js is available: use it to load d3/LDAvis\n",
              "   require.config({paths: {d3: \"https://d3js.org/d3.v5\"}});\n",
              "   require([\"d3\"], function(d3){\n",
              "      window.d3 = d3;\n",
              "      LDAvis_load_lib(\"https://cdn.jsdelivr.net/gh/bmabey/pyLDAvis@3.4.0/pyLDAvis/js/ldavis.v3.0.0.js\", function(){\n",
              "        new LDAvis(\"#\" + \"ldavis_el268631402049609389447716109421\", ldavis_el268631402049609389447716109421_data);\n",
              "      });\n",
              "    });\n",
              "}else{\n",
              "    // require.js not available: dynamically load d3 & LDAvis\n",
              "    LDAvis_load_lib(\"https://d3js.org/d3.v5.js\", function(){\n",
              "         LDAvis_load_lib(\"https://cdn.jsdelivr.net/gh/bmabey/pyLDAvis@3.4.0/pyLDAvis/js/ldavis.v3.0.0.js\", function(){\n",
              "                 new LDAvis(\"#\" + \"ldavis_el268631402049609389447716109421\", ldavis_el268631402049609389447716109421_data);\n",
              "            })\n",
              "         });\n",
              "}\n",
              "</script>"
            ]
          },
          "metadata": {},
          "execution_count": 138
        }
      ],
      "source": [
        "import pickle\n",
        "import pyLDAvis.gensim_models as gensimvis\n",
        "import pyLDAvis\n",
        "\n",
        "pyLDAvis.enable_notebook()\n",
        "vis = pyLDAvis.gensim_models.prepare(model, corpus, dic)\n",
        "pyLDAvis.display(vis)\n"
      ]
    },
    {
      "cell_type": "code",
      "execution_count": null,
      "metadata": {
        "colab": {
          "base_uri": "https://localhost:8080/"
        },
        "id": "up4LOUkhWwfx",
        "outputId": "576a1d06-231c-4406-827b-125bcded0a6f"
      },
      "outputs": [
        {
          "name": "stderr",
          "output_type": "stream",
          "text": [
            "/usr/local/lib/python3.10/dist-packages/ipykernel/ipkernel.py:283: DeprecationWarning: `should_run_async` will not call `transform_cell` automatically in the future. Please pass the result to `transformed_cell` argument and any exception that happen during thetransform in `preprocessing_exc_tuple` in IPython 7.17 and above.\n",
            "  and should_run_async(code)\n"
          ]
        }
      ],
      "source": [
        "num_topics = 10\n",
        "chunksize = 2000\n",
        "passes = 20\n",
        "iterations = 400\n",
        "eval_every = None\n",
        "\n",
        "temp = dic[0]\n",
        "id2word = dic.id2token\n",
        "\n",
        "model = LdaModel(\n",
        "    corpus=corpus,\n",
        "    id2word=id2word,\n",
        "    chunksize=chunksize,\n",
        "    alpha='auto',\n",
        "    eta='auto',\n",
        "    iterations=iterations,\n",
        "    num_topics=num_topics,\n",
        "    passes=passes,\n",
        "    eval_every=eval_every\n",
        ")"
      ]
    },
    {
      "cell_type": "code",
      "execution_count": null,
      "metadata": {
        "colab": {
          "base_uri": "https://localhost:8080/",
          "height": 917
        },
        "id": "Ab53Rt1eW0ro",
        "outputId": "a1285e04-c0f6-40ac-b587-7359e5d49442"
      },
      "outputs": [
        {
          "name": "stderr",
          "output_type": "stream",
          "text": [
            "/usr/local/lib/python3.10/dist-packages/ipykernel/ipkernel.py:283: DeprecationWarning: `should_run_async` will not call `transform_cell` automatically in the future. Please pass the result to `transformed_cell` argument and any exception that happen during thetransform in `preprocessing_exc_tuple` in IPython 7.17 and above.\n",
            "  and should_run_async(code)\n"
          ]
        },
        {
          "data": {
            "text/html": [
              "\n",
              "<link rel=\"stylesheet\" type=\"text/css\" href=\"https://cdn.jsdelivr.net/gh/bmabey/pyLDAvis@3.4.0/pyLDAvis/js/ldavis.v1.0.0.css\">\n",
              "\n",
              "\n",
              "<div id=\"ldavis_el268631402061377426562321310961\" style=\"background-color:white;\"></div>\n",
              "<script type=\"text/javascript\">\n",
              "\n",
              "var ldavis_el268631402061377426562321310961_data = {\"mdsDat\": {\"x\": [0.45708895166264785, -0.05479813195716801, -0.05038654697581526, -0.04767154370848875, -0.04620889845889317, -0.05199462522884179, -0.052277541961981124, -0.04982784800556939, -0.05101605154732788, -0.05290776381856264], \"y\": [-0.004860263400891142, -0.3931981451142981, 0.10325072247290319, 0.2512592506022568, 0.019787856181727115, 0.004289304586605627, 0.005526070773396684, 0.003907964981576016, 0.003949414667540909, 0.006087824249183357], \"topics\": [1, 2, 3, 4, 5, 6, 7, 8, 9, 10], \"cluster\": [1, 1, 1, 1, 1, 1, 1, 1, 1, 1], \"Freq\": [14.560212159465255, 11.68343789235245, 10.99497255081527, 10.309297592261062, 10.043745591617299, 9.124894284001412, 8.770072001172055, 8.6832411994278, 7.991014434220031, 7.839112294667366]}, \"tinfo\": {\"Term\": [\"\\ube44\\uc8fc\\uc5bc\", \"\\ub9db\", \"\\uc54c\\ub9bc\", \"\\ucd5c\\uace0\", \"\\ud314\", \"\\uc300\", \"\\ub77c\\uba74\", \"\\uace0\\uae30\", \"\\ubc25\", \"\\uaddc\", \"\\uc9d1\", \"\\ubc15\", \"\\uad6c\\ub9e4\", \"\\ube44\\uc96c\\uc5bc\", \"\\uc624\\ub298\", \"\\uc18c\\ud1b5\", \"\\uc548\\uc8fc\", \"\\uac08\\ube44\", \"\\uac10\\uc0ac\", \"\\uc644\\ub8cc\", \"\\uc694\\ub9ac\", \"\\uc220\", \"\\uce58\\uc988\", \"\\ud589\\ubcf5\", \"\\uc0ac\\uc9c4\", \"\\ud53c\\ub4dc\", \"\\ub9db\\uc9d1\", \"\\uba39\", \"\\uc0ac\\ub791\", \"\\ub0c9\", \"\\ub9db\", \"\\ubc25\", \"\\uc9d1\", \"\\ubc15\", \"\\ube44\\uc96c\\uc5bc\", \"\\uac08\\ube44\", \"\\ud0dd\\ubc30\", \"\\ube75\", \"\\uc2e0\\uccad\", \"\\uc800\\uc7a5\", \"\\ub3c4\\ub9ac\", \"\\uc5ec\\ub984\", \"\\ubcf5\\uc22d\\uc544\", \"\\ucee4\\ud130\", \"\\uc721\\uc218\", \"\\uc0dd\\uac01\", \"\\uc18d\", \"\\uc18c\\uae08\", \"\\uaf43\", \"\\ub0a0\\uc528\", \"\\ucf00\\uc774\\ud06c\", \"\\uc1a5\", \"\\ub450\\ubd80\", \"\\ucf69\\ub098\\ubb3c\", \"\\ud1a0\\ub9c8\\ud1a0\", \"\\uc778\\uc815\", \"\\uc6b0\\uc720\", \"\\ub3c4\\uc2dc\\ub77d\", \"\\ubaa8\\ucc0c\", \"\\ucabd\", \"\\uace0\\uae30\", \"\\uaddc\", \"\\uc0ac\\ub791\", \"\\uc74c\\uc2dd\", \"\\uba54\\ub274\", \"\\uac74\\uac15\", \"\\ub514\\uc800\\ud2b8\", \"\\uce68\", \"\\ubc25\\uc0c1\", \"\\uc2a4\\ud14c\\uc774\\ud06c\", \"\\uc591\", \"\\ub290\\ub08c\", \"\\uc644\\ubcbd\", \"\\uc2dc\\uac04\", \"\\uadf8\\ub987\", \"\\ud751\", \"\\ubc24\", \"\\uc544\\uc774\", \"\\uc18c\\uc2a4\", \"\\uc721\\uc999\", \"\\ud004\\ub9ac\\ud2f0\", \"\\uc9c4\\uc2ec\", \"\\uc0dd\\uc77c\", \"\\uce74\\ud398\", \"\\uc560\", \"\\ub2f9\", \"\\uc640\\uc778\", \"\\uc22f\\ubd88\", \"\\uc815\\ub3c4\", \"\\ud544\\uc218\\ud15c\", \"\\ucd5c\\uace0\", \"\\uc300\", \"\\uc0ac\\uc9c4\", \"\\uc785\", \"\\ub208\", \"\\ubb3c\", \"\\ud30c\\uc2a4\\ud0c0\", \"\\ub2e4\\uc591\", \"\\uc544\\uce68\", \"\\uc885\\ub958\", \"\\uc0c8\\uc6b0\", \"\\uc785\\ub9db\", \"\\ud669\\uae08\", \"\\uc7a5\", \"\\ub370\\uc774\\ud2b8\", \"\\uc601\\uc591\", \"\\uc54c\\ub78c\", \"\\uc591\\ub150\", \"\\ud3fc\", \"\\uc9f1\", \"\\uae30\\ubd84\", \"\\ubcf6\\uc74c\", \"\\ubc30\", \"\\uc220\\uc548\\uc8fc\", \"\\ubdf0\", \"\\uc120\\ubb3c\", \"\\uc790\\uccb4\", \"\\uc0d0\\ub7ec\\ub4dc\", \"\\ud30c\", \"\\ubcf4\\uc591\\uc2dd\", \"\\uc54c\\ub9bc\", \"\\uc548\\uc8fc\", \"\\uad70\\uce68\", \"\\ud53c\\uc790\", \"\\ub9e5\\uc8fc\", \"\\uc18c\\uc8fc\", \"\\uce58\\ud0a8\", \"\\ud06c\\ub9bc\", \"\\ucc1c\", \"\\ub2f9\\uc7a5\", \"\\ub2ed\", \"\\uae40\\uce58\", \"\\ud574\\uc0b0\\ubb3c\", \"\\uac01\", \"\\uad6c\\uc774\", \"\\ubab8\\ubcf4\\uc2e0\", \"\\uc804\\uace8\", \"\\ubbf8\\uc2dd\", \"\\ubb38\\uc5b4\", \"\\uc0e4\\ube0c\\uc0e4\\ube0c\", \"\\ud574\\ubb3c\", \"\\uac10\\uc790\", \"\\ubcf6\\uc74c\\ubc25\", \"\\uba54\\ubaa8\", \"\\uc548\", \"\\ub05d\", \"\\uc720\\uba85\", \"\\ucb48\\uafb8\\ubbf8\", \"\\uc308\", \"\\ucde8\\ud5a5\", \"\\ud314\", \"\\uc18c\\ud1b5\", \"\\uac10\\uc0ac\", \"\\ud589\\ubcf5\", \"\\ud53c\\ub4dc\", \"\\uba39\", \"\\ub9c9\\uac78\\ub9ac\", \"\\ucee4\\ud53c\", \"\\ub808\\uc2dc\\ud53c\", \"\\ud558\\ub8e8\", \"\\uc794\", \"\\uc6a9\", \"\\ube44\", \"\\ubd88\", \"\\uc608\\uc220\", \"\\uc0b4\", \"\\uad6c\\uacbd\", \"\\uae08\", \"\\uc120\", \"\\uc778\", \"\\uc0ac\\uc6a9\", \"\\uc55e\", \"\\uc548\\ub155\", \"\\ub9de\\ud314\", \"\\ud790\\ub9c1\", \"\\uacf1\\ucc3d\", \"\\ud55c\\uc794\", \"\\uae00\", \"\\uc7a1\\ucc44\", \"\\ub2d8\", \"\\uc624\\ub298\", \"\\ub0c9\", \"\\uc870\\ud569\", \"\\uc870\\uac1c\", \"\\uc0c1\", \"\\ub5a1\\ubcf6\\uc774\", \"\\uad7f\", \"\\ub9dd\\uace0\", \"\\uc800\\ub141\", \"\\uc5b8\\ub2c8\", \"\\uad6d\\ubb3c\", \"\\uc774\\ub984\", \"\\ubca0\\uc774\\uae00\", \"\\ub5a1\", \"\\uc2e4\", \"\\ubcf4\\uc57d\", \"\\uc5b4\\ubb35\", \"\\uc7a5\\uc5b4\", \"\\uc0cc\\ub4dc\\uc704\\uce58\", \"\\uc624\\uc9d5\\uc5b4\", \"\\ubab8\", \"\\uc591\\uace0\\uae30\", \"\\uce68\\uc0d8\", \"\\ucde8\\uc800\", \"\\ubc84\\ud130\", \"\\uc0bc\\uacc4\\ud0d5\", \"\\uc694\\uac70\\ud2b8\", \"\\uac08\\ube44\\ucc1c\", \"\\uace0\\uad6c\\ub9c8\", \"\\uc824\\ub9ac\", \"\\uc694\\ub9ac\", \"\\uc220\", \"\\uce58\\uc988\", \"\\ub9db\\uc9d1\", \"\\ud544\\uc694\", \"\\uc218\\ubc15\", \"\\uc218\\uc815\", \"\\uac00\\ub2a5\", \"\\uc774\\uc6a9\", \"\\uc0c9\\uac10\", \"\\ucd95\\ud558\", \"\\uac00\\uaca9\", \"\\ub9d8\", \"\\uacfc\\uc77c\", \"\\ud30c\\ud2f0\", \"\\uc2a4\\ud0c0\\uc77c\", \"\\ucc98\\uc74c\", \"\\uac00\\uc704\", \"\\ubcfc\", \"\\uc5c4\\ub9c8\", \"\\ucd94\\ucc9c\", \"\\ub9e5\", \"\\uc720\\uc6a9\", \"\\uace0\\ubbfc\", \"\\uac71\\uc815\", \"\\uac00\\uc9c0\", \"\\uc7ac\\ub8cc\", \"\\ud3ed\\ubc1c\", \"\\uba74\", \"\\ub514\\uc790\\uc778\", \"\\ube44\\uc8fc\\uc5bc\", \"\\ub300\\ubc15\", \"\\uc694\\uc998\", \"\\uc644\\uc804\", \"\\ubc18\\ucc2c\", \"\\uc81c\\ud488\", \"\\uc724\\uae30\", \"\\uc7a5\\uc778\", \"\\ubc25\\ub3c4\\ub451\", \"\\uafc0\", \"\\ud544\\uc218\", \"\\uc871\\ubc1c\", \"\\ub54c\\uae54\", \"\\ucc1c\\uae30\", \"\\ub0c9\\uba74\", \"\\uafc0\\ub9db\", \"\\uc815\\ubcf4\", \"\\uc18c\\uace0\\uae30\", \"\\uc9c4\\uc9dc\", \"\\ub2f4\", \"\\ud55c\\uc6b0\", \"\\uae09\", \"\\ud301\", \"\\uc2e4\\ud654\", \"\\uc900\\ube44\", \"\\ud06c\\uae30\", \"\\ubbff\\uba39\", \"\\uc625\\uc218\\uc218\", \"\\uc138\\ud2b8\", \"\\ud604\\uad00\", \"\\ub77c\\uba74\", \"\\uacf3\", \"\\ubd84\\uc704\\uae30\", \"\\uc8fc\\ub9d0\", \"\\uc8fc\\ubb38\", \"\\ub0a0\", \"\\ube44\\uc920\", \"\\uc190\", \"\\uace0\\uae09\", \"\\ud50c\\ub808\\uc774\\ud305\", \"\\uae84\", \"\\uac04\\uc2dd\", \"\\ud5a5\", \"\\ubbf8\\ub098\\ub9ac\", \"\\ubcf4\\uc308\", \"\\uace8\\ubc45\\uc774\", \"\\ubc84\\uac70\", \"\\uc8fc\\ubc29\", \"\\ucc9c\\uad6d\", \"\\uc6b8\", \"\\ub07c\", \"\\uc18c\\ub9ac\", \"\\uc720\", \"\\ub2e4\\uc74c\", \"\\uc0c9\", \"\\ub313\\uae00\", \"\\uc591\\ud30c\", \"\\uc9c0\\uad6c\", \"\\ud3ec\\uc7a5\", \"\\ud560\\uba38\\ub2c8\", \"\\uad6c\\ub9e4\", \"\\uc644\\ub8cc\", \"\\uc7a5\\ub09c\", \"\\uacf5\\uad6c\", \"\\uc804\", \"\\ud734\\uac00\", \"\\ud1a0\\ud551\", \"\\uce7c\", \"\\uc774\\ubc88\", \"\\ube59\\uc218\", \"\\ub2e4\\uc774\\uc5b4\\ud2b8\", \"\\uc624\\ub79c\\ub9cc\", \"\\uc601\\uc0c1\", \"\\uc138\\uc0c1\", \"\\uc655\", \"\\uc751\\uc6d0\", \"\\uc720\\uae30\\ub18d\", \"\\uad6c\\uc131\", \"\\uc8fc\", \"\\uae30\\ub300\", \"\\uacc4\\ub780\", \"\\ubc00\", \"\\ubd80\\ud0c1\", \"\\ud0a4\\ud2b8\", \"\\uc704\", \"\\uc2dc\\uc791\", \"\\ucea0\\ud551\", \"\\uc624\\ud508\", \"\\ub7a9\", \"\\uac00\\ub4dd\"], \"Freq\": [13445.0, 12349.0, 7390.0, 6452.0, 5241.0, 5432.0, 4730.0, 5133.0, 5530.0, 4915.0, 4832.0, 4769.0, 3465.0, 4477.0, 3476.0, 3614.0, 3569.0, 4056.0, 3183.0, 2859.0, 2983.0, 2885.0, 2846.0, 2916.0, 2995.0, 2761.0, 2547.0, 2642.0, 2791.0, 2489.0, 12348.900570573232, 5529.653735898038, 4831.687026797131, 4768.746425149868, 4476.820002474051, 4055.762708222768, 2580.9149691110656, 2561.186835489679, 2414.843440571277, 1922.4566583632845, 1840.3774431276104, 1769.326962172733, 1735.1474676328266, 1701.5875375352887, 1044.9931981865336, 920.5775936626915, 901.592368964402, 851.8675721996077, 849.4880549756018, 698.0992293066671, 634.8670750866232, 605.0845798615306, 579.2352226305401, 545.186299469838, 497.7405335597924, 487.3112664475127, 464.1360240548023, 453.4536936942079, 441.7375514465868, 414.12158294322836, 5132.417704861572, 4914.581343586419, 2790.9255927667527, 2407.0758154535806, 2256.2209177895907, 2083.8423887767162, 1989.6324876848971, 1538.8855606598072, 1494.5669434009312, 1381.4238154257537, 1338.434542967805, 1313.8056320128721, 1187.6994049226814, 1169.0677272863916, 1097.2840202423322, 1045.8614031326813, 981.7181382365263, 976.3649875253318, 916.5844130757456, 889.9089027581457, 866.8637117684779, 831.22701530166, 819.7341968176106, 701.3686242223405, 681.7742434474515, 652.2839911410631, 641.1043199520464, 522.4439744972823, 519.2145045574154, 516.4386942183943, 6451.228755220043, 5431.899920590664, 2994.113935373626, 2505.9174607825494, 2315.916344525648, 1234.5792556235579, 1216.622384913021, 1215.2402758809787, 1167.686895378344, 1074.6562411879318, 954.0406161049843, 880.7965021640224, 826.6395960186314, 790.7630133408326, 787.0606289861427, 750.436333906537, 726.0433358521559, 717.7425263581607, 712.6087945706863, 697.2562857464817, 693.063418244174, 686.8780817584067, 668.0748992084622, 634.8351769878466, 625.1496831033643, 622.2971670354582, 584.2410339786024, 578.5967067204175, 577.9695456210508, 570.7892010047177, 7389.893059166254, 3568.561837379742, 2336.9649688565783, 2335.5883299987217, 2039.2059870816258, 1964.0770597973794, 1623.00385888336, 1578.9285327780256, 1490.181091754103, 1447.970069507976, 1444.1929367646685, 1314.8175161905856, 1049.4478386494116, 937.2729870589513, 867.9065214689251, 854.4894095801957, 824.5218145567321, 736.1204880468546, 699.8087059715115, 689.7307942258434, 635.7742437091513, 619.3703130488858, 576.952024553069, 525.6860256831828, 511.7053565740762, 500.9311912129451, 470.20151182342363, 465.11483584317136, 404.5717606206629, 387.254334867971, 5240.200763872493, 3613.7489043614455, 3182.0549341551227, 2915.3192238692277, 2760.2044897598635, 2642.0169807278985, 2393.0670119163487, 1525.746948820037, 1391.2190614722645, 1388.9876098558561, 1243.674055620962, 1187.0643719992133, 1156.9724308404423, 1142.4510233512638, 1100.9527896738182, 922.260386998099, 914.677047546132, 913.2007651323045, 840.2442056700856, 827.9866253943406, 760.7104708551404, 669.4805194900299, 630.4092233003032, 604.2466041680158, 581.2142235550156, 571.5381770434412, 560.1334528927888, 465.23071969907477, 454.51980235214336, 427.87082109361273, 3475.9267336647154, 2488.493972415577, 2324.6528459803826, 1794.3446806428024, 1462.1707800159045, 1456.6342837171053, 1416.0891528197815, 1322.6995804764301, 1308.7351888687103, 1165.9111308129054, 1076.1219400381783, 985.3833680826136, 980.2377994334281, 839.6754934457152, 820.4555625235126, 702.3711892783057, 681.5156419038465, 659.0993354804868, 632.6203228729419, 622.7657604647085, 616.4434904302043, 610.3681836713544, 578.0347216336919, 573.6600163060828, 548.295824320783, 520.8686009744652, 500.3450011473153, 497.6812276743876, 488.39122545162866, 480.99616893163807, 2982.6335076810337, 2884.877149213543, 2845.5633147530593, 2546.4260210642374, 1671.7903395203143, 1360.306017184388, 1014.0525748667889, 956.9307178890208, 941.2272914115904, 917.7439515324539, 915.3451131087803, 810.5436157296309, 745.0348726135873, 692.6410935948394, 629.7528977997192, 615.3409880089814, 595.1288937011569, 579.5516060381997, 557.8928037066048, 554.7876563958399, 544.1108054287017, 538.2832313280147, 535.0303759056916, 526.2977940944044, 519.1875560117242, 515.4412478948602, 510.72627780799155, 492.99528849458284, 470.3074692891211, 443.0370303775447, 13444.849403220027, 2276.9199407923616, 2037.87430363651, 1935.762275612644, 1798.6246973376137, 1215.8829186301546, 1070.1742780322265, 1005.57814146328, 897.7281495839154, 876.0393338553896, 853.4976443027178, 744.3218045678407, 702.0143815773812, 669.05394626096, 649.0379002637235, 644.7793906554131, 554.111716771494, 544.3830859786679, 513.7602087116076, 512.6356181586812, 488.4605774128107, 462.1342239461999, 418.77949785587657, 409.2235047636568, 378.5853007554346, 376.89420188819014, 375.68464840518976, 374.04892435159, 359.1715496814218, 349.4195050517813, 4729.6444729476925, 2317.3618701302116, 2238.4429074378068, 1859.8931813748848, 1813.8494545846354, 1728.2318029357548, 1425.0241450190622, 1309.9836367596347, 1257.507810222937, 1107.6768307069344, 914.5370034780751, 856.4409665677605, 853.8499440550569, 701.8783628130018, 662.3868390659286, 626.8107719226329, 604.5025761318844, 559.5623290189152, 532.0439675421899, 522.0272188994251, 511.6334929701973, 499.5660752369258, 490.56893450726983, 489.56358746798395, 445.7413037322709, 436.86284021196013, 429.6490663190923, 421.09044745949143, 392.43362259938937, 380.72294953784467, 3464.1245218761246, 2858.056338411082, 1621.0774320168857, 1348.6324471427622, 1271.4113575366848, 1188.0498880270939, 913.8970998824985, 880.5811211934532, 853.297451301926, 853.2263656957979, 833.8955400736255, 740.3396252069731, 709.5789685832328, 695.9217011534821, 682.8120027377252, 669.695659173056, 668.2912156940496, 655.2804950226187, 646.4847223573502, 594.528270325572, 579.3652646139864, 533.1785068434339, 515.1549831155098, 505.81999159047285, 419.74048130339435, 408.83740950738445, 400.4137651812072, 388.6288558936786, 378.42977641961244, 349.6466855095257], \"Total\": [13445.0, 12349.0, 7390.0, 6452.0, 5241.0, 5432.0, 4730.0, 5133.0, 5530.0, 4915.0, 4832.0, 4769.0, 3465.0, 4477.0, 3476.0, 3614.0, 3569.0, 4056.0, 3183.0, 2859.0, 2983.0, 2885.0, 2846.0, 2916.0, 2995.0, 2761.0, 2547.0, 2642.0, 2791.0, 2489.0, 12349.864489325497, 5530.617801616403, 4832.650972586885, 4769.710356943944, 4477.783938771487, 4056.7266689736703, 2581.8794876203738, 2562.1507593160404, 2415.8089630522068, 1923.420592528501, 1841.3413212158957, 1770.2909188861, 1736.1114067534786, 1702.5525825250365, 1045.9571539233868, 921.5415637322839, 902.5563366723582, 852.8316321576394, 850.4520228086818, 699.0632266773006, 635.8309862436895, 606.0486143515611, 580.1995762205169, 546.1507850447651, 498.70457282037756, 488.2752115469384, 465.09988948216045, 454.4176500489472, 442.7016895355534, 415.08779539708627, 5133.37015730483, 4915.534174761383, 2791.878031721132, 2408.028307032734, 2257.1733853515975, 2084.794912393458, 1990.5849306221385, 1539.838009717846, 1495.5196522061483, 1382.3763249171543, 1339.3871050796984, 1314.75813530132, 1188.6518782451408, 1170.0202029587574, 1098.2365415887834, 1046.8140893881866, 982.6706050393198, 977.3175400899022, 917.5368960669024, 890.8613367288302, 867.8161626736747, 832.1795050796808, 820.6867679447262, 702.32102891489, 682.7267514353517, 653.2364201812983, 642.0567104512733, 523.3965964665392, 520.1669925472704, 517.3914152318301, 6452.182488146719, 5432.85490730318, 2995.067672454207, 2506.871169264743, 2316.8701117375986, 1235.5330342841974, 1217.5761100469933, 1216.1939992564708, 1168.640602195131, 1075.609941782354, 954.9943140792785, 881.7502753013217, 827.595582727595, 791.7168916798362, 788.0144240009452, 751.3901875153556, 726.9980082385795, 718.6962585756974, 713.5625272427276, 698.2100121966682, 694.0171605517869, 687.8318888154336, 669.0286353823307, 635.7889156732257, 626.103526021131, 623.2508612706213, 585.1947871241132, 579.5504133387301, 578.9232869055737, 571.7431992007994, 7390.855295206471, 3569.5212954371286, 2337.924382786965, 2336.5477689176682, 2040.165405412678, 1965.0365361870904, 1623.9632720773025, 1579.8879417373132, 1491.1406092157, 1448.929491582471, 1445.152358228577, 1315.77693802572, 1050.4074518652546, 938.2324410834581, 868.8659225259047, 855.4489809873171, 825.4814164519748, 737.0809058783369, 700.7683750051161, 690.6903112778839, 636.7337447228771, 620.3298268520999, 577.9115051537578, 526.6454440243606, 512.6648149765724, 501.890709965971, 471.16096084610234, 466.0742573790564, 405.5312464164327, 388.2137340805893, 5241.156136063592, 3614.7042780275037, 3183.0103726762577, 2916.2747264931436, 2761.1598999837497, 2642.9723642879553, 2394.022557546011, 1526.702387622438, 1392.174880037354, 1389.9430878131468, 1244.62947712966, 1188.0198305694735, 1157.9278828061479, 1143.406466058758, 1101.9082371316283, 923.2158512029165, 915.6325079951009, 914.1561946549081, 841.1995957778255, 828.9420818202182, 761.6660792257388, 670.4359491367147, 631.3646078375908, 605.2020135734964, 582.1696697472134, 572.4937176284748, 561.0888855050183, 466.1861707354149, 455.4752771850448, 428.82631560331765, 3476.8714981284256, 2489.4395655755475, 2325.597563486796, 1795.2897943948997, 1463.1155591149052, 1457.5790065075983, 1417.0338840876866, 1323.6442823943403, 1309.6799400836035, 1166.8558715124084, 1077.066690195888, 986.3281350820977, 981.1826005206126, 840.6201816112444, 821.4003019098446, 703.3179262292812, 682.4604066417726, 660.0441559699971, 633.5650434660645, 623.7105038908733, 617.3882657225424, 611.3130682652846, 578.9794317267813, 574.6047320059856, 549.2405559528197, 521.8135123339799, 501.2897270960912, 498.6262067054534, 489.33593819778497, 481.94096402047364, 2983.5877624431764, 2885.8313401026435, 2846.517497030774, 2547.3801878899694, 1672.7446217301185, 1361.2601738890942, 1015.0071569876711, 957.8849118123221, 942.1818909891057, 918.6980893121771, 916.2992867711894, 811.4977897367181, 745.9890589355323, 693.5952141041773, 630.7070737016965, 616.295146232267, 596.0830697389924, 580.5082211359262, 558.846930774656, 555.7418603106366, 545.0650607428272, 539.2374223361426, 535.9848032120328, 527.25203596914, 520.1418447799891, 516.3958645848761, 511.6804748584175, 493.94946668187947, 471.2616596770917, 443.9913040410342, 13445.801798904491, 2277.8723280806544, 2038.8267315734183, 1936.7146944143299, 1799.5772484198694, 1216.8354304228826, 1071.126875419146, 1006.5321144735098, 898.6805632410322, 876.9917192485068, 854.4500581970467, 745.2743467809107, 702.9667795265132, 670.007726120837, 649.9905498042598, 645.7318116628672, 555.0641853105925, 545.3354840488405, 514.7126072535582, 513.5880632675141, 489.41298462590646, 463.08666923542586, 419.7320636391035, 410.1759189940873, 379.53777306391623, 377.84660550992527, 376.6370686912554, 375.00129082686783, 360.12392185049447, 350.37427789006847, 4730.601974741656, 2318.3189188690817, 2239.3999418244275, 1860.8502319876966, 1814.8065870429784, 1729.188893782554, 1425.9811878745354, 1310.9407633160015, 1258.4648310649243, 1108.6338924448476, 915.4940349465647, 857.39800965966, 854.8070090978779, 702.8362472005805, 663.3442372384554, 627.7681315240752, 605.4597978046071, 560.5194444989111, 533.0010319006012, 522.984275770608, 512.5905624620939, 500.52314857809336, 491.52599794088525, 490.5206994673501, 446.6983319870429, 437.82001121121937, 430.60756436881036, 422.04813855930877, 393.3907053184036, 381.68056612547224, 3465.0902904871486, 2859.022077919963, 1622.043134071267, 1349.5982659542824, 1272.3770947413334, 1189.0169216273284, 914.8628340448497, 881.5472612276052, 854.2631604572991, 854.1921490885045, 834.8612645598181, 741.3053302608897, 710.5447255379324, 696.8873954063569, 683.7777193634528, 670.6613724102707, 669.263485422317, 656.2461815138785, 647.4504630677162, 595.4939682590287, 580.3310254292522, 534.1441859052054, 516.1207899546833, 506.78567480830446, 420.7061873364914, 409.8031221918382, 401.3794369324737, 389.5945725124425, 379.3957246693139, 350.61239413884573], \"Category\": [\"Default\", \"Default\", \"Default\", \"Default\", \"Default\", \"Default\", \"Default\", \"Default\", \"Default\", \"Default\", \"Default\", \"Default\", \"Default\", \"Default\", \"Default\", \"Default\", \"Default\", \"Default\", \"Default\", \"Default\", \"Default\", \"Default\", \"Default\", \"Default\", \"Default\", \"Default\", \"Default\", \"Default\", \"Default\", \"Default\", \"Topic1\", \"Topic1\", \"Topic1\", \"Topic1\", \"Topic1\", \"Topic1\", \"Topic1\", \"Topic1\", \"Topic1\", \"Topic1\", \"Topic1\", \"Topic1\", \"Topic1\", \"Topic1\", \"Topic1\", \"Topic1\", \"Topic1\", \"Topic1\", \"Topic1\", \"Topic1\", \"Topic1\", \"Topic1\", \"Topic1\", \"Topic1\", \"Topic1\", \"Topic1\", \"Topic1\", \"Topic1\", \"Topic1\", \"Topic1\", \"Topic2\", \"Topic2\", \"Topic2\", \"Topic2\", \"Topic2\", \"Topic2\", \"Topic2\", \"Topic2\", \"Topic2\", \"Topic2\", \"Topic2\", \"Topic2\", \"Topic2\", \"Topic2\", \"Topic2\", \"Topic2\", \"Topic2\", \"Topic2\", \"Topic2\", \"Topic2\", \"Topic2\", \"Topic2\", \"Topic2\", \"Topic2\", \"Topic2\", \"Topic2\", \"Topic2\", \"Topic2\", \"Topic2\", \"Topic2\", \"Topic3\", \"Topic3\", \"Topic3\", \"Topic3\", \"Topic3\", \"Topic3\", \"Topic3\", \"Topic3\", \"Topic3\", \"Topic3\", \"Topic3\", \"Topic3\", \"Topic3\", \"Topic3\", \"Topic3\", \"Topic3\", \"Topic3\", \"Topic3\", \"Topic3\", \"Topic3\", \"Topic3\", \"Topic3\", \"Topic3\", \"Topic3\", \"Topic3\", \"Topic3\", \"Topic3\", \"Topic3\", \"Topic3\", \"Topic3\", \"Topic4\", \"Topic4\", \"Topic4\", \"Topic4\", \"Topic4\", \"Topic4\", \"Topic4\", \"Topic4\", \"Topic4\", \"Topic4\", \"Topic4\", \"Topic4\", \"Topic4\", \"Topic4\", \"Topic4\", \"Topic4\", \"Topic4\", \"Topic4\", \"Topic4\", \"Topic4\", \"Topic4\", \"Topic4\", \"Topic4\", \"Topic4\", \"Topic4\", \"Topic4\", \"Topic4\", \"Topic4\", \"Topic4\", \"Topic4\", \"Topic5\", \"Topic5\", \"Topic5\", \"Topic5\", \"Topic5\", \"Topic5\", \"Topic5\", \"Topic5\", \"Topic5\", \"Topic5\", \"Topic5\", \"Topic5\", \"Topic5\", \"Topic5\", \"Topic5\", \"Topic5\", \"Topic5\", \"Topic5\", \"Topic5\", \"Topic5\", \"Topic5\", \"Topic5\", \"Topic5\", \"Topic5\", \"Topic5\", \"Topic5\", \"Topic5\", \"Topic5\", \"Topic5\", \"Topic5\", \"Topic6\", \"Topic6\", \"Topic6\", \"Topic6\", \"Topic6\", \"Topic6\", \"Topic6\", \"Topic6\", \"Topic6\", \"Topic6\", \"Topic6\", \"Topic6\", \"Topic6\", \"Topic6\", \"Topic6\", \"Topic6\", \"Topic6\", \"Topic6\", \"Topic6\", \"Topic6\", \"Topic6\", \"Topic6\", \"Topic6\", \"Topic6\", \"Topic6\", \"Topic6\", \"Topic6\", \"Topic6\", \"Topic6\", \"Topic6\", \"Topic7\", \"Topic7\", \"Topic7\", \"Topic7\", \"Topic7\", \"Topic7\", \"Topic7\", \"Topic7\", \"Topic7\", \"Topic7\", \"Topic7\", \"Topic7\", \"Topic7\", \"Topic7\", \"Topic7\", \"Topic7\", \"Topic7\", \"Topic7\", \"Topic7\", \"Topic7\", \"Topic7\", \"Topic7\", \"Topic7\", \"Topic7\", \"Topic7\", \"Topic7\", \"Topic7\", \"Topic7\", \"Topic7\", \"Topic7\", \"Topic8\", \"Topic8\", \"Topic8\", \"Topic8\", \"Topic8\", \"Topic8\", \"Topic8\", \"Topic8\", \"Topic8\", \"Topic8\", \"Topic8\", \"Topic8\", \"Topic8\", \"Topic8\", \"Topic8\", \"Topic8\", \"Topic8\", \"Topic8\", \"Topic8\", \"Topic8\", \"Topic8\", \"Topic8\", \"Topic8\", \"Topic8\", \"Topic8\", \"Topic8\", \"Topic8\", \"Topic8\", \"Topic8\", \"Topic8\", \"Topic9\", \"Topic9\", \"Topic9\", \"Topic9\", \"Topic9\", \"Topic9\", \"Topic9\", \"Topic9\", \"Topic9\", \"Topic9\", \"Topic9\", \"Topic9\", \"Topic9\", \"Topic9\", \"Topic9\", \"Topic9\", \"Topic9\", \"Topic9\", \"Topic9\", \"Topic9\", \"Topic9\", \"Topic9\", \"Topic9\", \"Topic9\", \"Topic9\", \"Topic9\", \"Topic9\", \"Topic9\", \"Topic9\", \"Topic9\", \"Topic10\", \"Topic10\", \"Topic10\", \"Topic10\", \"Topic10\", \"Topic10\", \"Topic10\", \"Topic10\", \"Topic10\", \"Topic10\", \"Topic10\", \"Topic10\", \"Topic10\", \"Topic10\", \"Topic10\", \"Topic10\", \"Topic10\", \"Topic10\", \"Topic10\", \"Topic10\", \"Topic10\", \"Topic10\", \"Topic10\", \"Topic10\", \"Topic10\", \"Topic10\", \"Topic10\", \"Topic10\", \"Topic10\", \"Topic10\"], \"logprob\": [30.0, 29.0, 28.0, 27.0, 26.0, 25.0, 24.0, 23.0, 22.0, 21.0, 20.0, 19.0, 18.0, 17.0, 16.0, 15.0, 14.0, 13.0, 12.0, 11.0, 10.0, 9.0, 8.0, 7.0, 6.0, 5.0, 4.0, 3.0, 2.0, 1.0, -1.9545, -2.758, -2.8929, -2.906, -2.9692, -3.0679, -3.5199, -3.5276, -3.5864, -3.8145, -3.8581, -3.8975, -3.917, -3.9365, -4.4241, -4.5508, -4.5717, -4.6284, -4.6312, -4.8275, -4.9224, -4.9705, -5.0141, -5.0747, -5.1658, -5.1869, -5.2357, -5.2589, -5.2851, -5.3497, -2.6124, -2.6558, -3.2216, -3.3695, -3.4343, -3.5137, -3.56, -3.8169, -3.8461, -3.9248, -3.9565, -3.975, -4.0759, -4.0918, -4.1551, -4.2031, -4.2664, -4.2719, -4.3351, -4.3646, -4.3908, -4.4328, -4.4467, -4.6027, -4.631, -4.6752, -4.6925, -4.8972, -4.9034, -4.9088, -2.323, -2.4949, -3.0906, -3.2686, -3.3474, -3.9765, -3.9911, -3.9923, -4.0322, -4.1152, -4.2343, -4.3142, -4.3776, -4.422, -4.4267, -4.4743, -4.5074, -4.5189, -4.526, -4.5478, -4.5539, -4.5628, -4.5906, -4.6416, -4.657, -4.6616, -4.7247, -4.7344, -4.7355, -4.748, -2.1227, -2.8507, -3.274, -3.2746, -3.4103, -3.4478, -3.6386, -3.6661, -3.7239, -3.7527, -3.7553, -3.8491, -4.0746, -4.1876, -4.2645, -4.2801, -4.3158, -4.4292, -4.4798, -4.4943, -4.5757, -4.6019, -4.6728, -4.7659, -4.7928, -4.8141, -4.8774, -4.8883, -5.0278, -5.0715, -2.4404, -2.812, -2.9392, -3.0268, -3.0814, -3.1252, -3.2242, -3.6743, -3.7666, -3.7682, -3.8787, -3.9253, -3.9509, -3.9636, -4.0006, -4.1777, -4.1859, -4.1875, -4.2708, -4.2855, -4.3702, -4.498, -4.5581, -4.6005, -4.6394, -4.6562, -4.6763, -4.862, -4.8852, -4.9457, -2.7549, -3.0891, -3.1572, -3.4162, -3.6209, -3.6247, -3.6529, -3.7211, -3.7317, -3.8473, -3.9274, -4.0155, -4.0208, -4.1755, -4.1987, -4.3541, -4.3842, -4.4177, -4.4587, -4.4744, -4.4846, -4.4945, -4.5489, -4.5565, -4.6017, -4.653, -4.6932, -4.6986, -4.7174, -4.7327, -2.8683, -2.9016, -2.9154, -3.0264, -3.4472, -3.6534, -3.9472, -4.0052, -4.0217, -4.047, -4.0496, -4.1712, -4.2555, -4.3284, -4.4236, -4.4467, -4.4801, -4.5066, -4.5447, -4.5503, -4.5697, -4.5805, -4.5866, -4.603, -4.6166, -4.6239, -4.6331, -4.6684, -4.7155, -4.7752, -1.3526, -3.1284, -3.2393, -3.2907, -3.3642, -3.7557, -3.8834, -3.9456, -4.0591, -4.0835, -4.1096, -4.2465, -4.305, -4.3531, -4.3834, -4.39, -4.5416, -4.5593, -4.6172, -4.6194, -4.6677, -4.7231, -4.8216, -4.8447, -4.9225, -4.927, -4.9302, -4.9345, -4.9751, -5.0027, -2.3143, -3.0277, -3.0623, -3.2476, -3.2727, -3.321, -3.5139, -3.5981, -3.639, -3.7658, -3.9574, -4.0231, -4.0261, -4.2221, -4.28, -4.3352, -4.3715, -4.4487, -4.4991, -4.5181, -4.5383, -4.5621, -4.5803, -4.5823, -4.6761, -4.6962, -4.7129, -4.733, -4.8035, -4.8338, -2.6065, -2.7988, -3.3658, -3.5498, -3.6088, -3.6766, -3.9389, -3.9761, -4.0076, -4.0076, -4.0306, -4.1496, -4.192, -4.2114, -4.2304, -4.2498, -4.2519, -4.2716, -4.2851, -4.3689, -4.3947, -4.4778, -4.5122, -4.5305, -4.717, -4.7433, -4.7642, -4.794, -4.8206, -4.8997], \"loglift\": [30.0, 29.0, 28.0, 27.0, 26.0, 25.0, 24.0, 23.0, 22.0, 21.0, 20.0, 19.0, 18.0, 17.0, 16.0, 15.0, 14.0, 13.0, 12.0, 11.0, 10.0, 9.0, 8.0, 7.0, 6.0, 5.0, 4.0, 3.0, 2.0, 1.0, 1.9268, 1.9267, 1.9267, 1.9267, 1.9267, 1.9266, 1.9265, 1.9265, 1.9265, 1.9264, 1.9264, 1.9263, 1.9263, 1.9263, 1.926, 1.9258, 1.9258, 1.9257, 1.9257, 1.9255, 1.9254, 1.9253, 1.9252, 1.9251, 1.9249, 1.9249, 1.9248, 1.9248, 1.9247, 1.9245, 2.1468, 2.1468, 2.1467, 2.1466, 2.1466, 2.1465, 2.1465, 2.1464, 2.1464, 2.1463, 2.1463, 2.1463, 2.1462, 2.1462, 2.1461, 2.1461, 2.146, 2.146, 2.146, 2.1459, 2.1459, 2.1459, 2.1458, 2.1456, 2.1456, 2.1455, 2.1455, 2.1452, 2.1452, 2.1452, 2.2076, 2.2076, 2.2074, 2.2074, 2.2073, 2.207, 2.2069, 2.2069, 2.2069, 2.2068, 2.2067, 2.2066, 2.2066, 2.2065, 2.2065, 2.2065, 2.2064, 2.2064, 2.2064, 2.2064, 2.2064, 2.2063, 2.2063, 2.2062, 2.2062, 2.2062, 2.2061, 2.2061, 2.2061, 2.2061, 2.272, 2.2719, 2.2717, 2.2717, 2.2717, 2.2716, 2.2715, 2.2715, 2.2715, 2.2715, 2.2715, 2.2714, 2.2712, 2.2711, 2.271, 2.271, 2.271, 2.2708, 2.2708, 2.2707, 2.2706, 2.2706, 2.2705, 2.2703, 2.2703, 2.2702, 2.2701, 2.2701, 2.2698, 2.2696, 2.298, 2.298, 2.2979, 2.2979, 2.2979, 2.2979, 2.2978, 2.2976, 2.2975, 2.2975, 2.2975, 2.2974, 2.2974, 2.2974, 2.2974, 2.2972, 2.2972, 2.2972, 2.2971, 2.2971, 2.297, 2.2968, 2.2967, 2.2966, 2.2966, 2.2965, 2.2965, 2.2962, 2.2961, 2.296, 2.3939, 2.3938, 2.3938, 2.3936, 2.3935, 2.3935, 2.3935, 2.3934, 2.3934, 2.3934, 2.3933, 2.3932, 2.3932, 2.393, 2.393, 2.3928, 2.3928, 2.3927, 2.3927, 2.3926, 2.3926, 2.3926, 2.3925, 2.3925, 2.3924, 2.3924, 2.3923, 2.3923, 2.3922, 2.3922, 2.4335, 2.4335, 2.4335, 2.4335, 2.4333, 2.4331, 2.4329, 2.4328, 2.4328, 2.4328, 2.4328, 2.4326, 2.4325, 2.4324, 2.4323, 2.4323, 2.4322, 2.4322, 2.4321, 2.4321, 2.4321, 2.4321, 2.432, 2.432, 2.432, 2.432, 2.432, 2.4319, 2.4318, 2.4317, 2.4437, 2.4434, 2.4433, 2.4433, 2.4432, 2.443, 2.4429, 2.4428, 2.4427, 2.4427, 2.4427, 2.4425, 2.4424, 2.4424, 2.4423, 2.4423, 2.4421, 2.442, 2.4419, 2.4419, 2.4418, 2.4417, 2.4415, 2.4415, 2.4413, 2.4413, 2.4412, 2.4412, 2.4411, 2.441, 2.5267, 2.5264, 2.5264, 2.5263, 2.5263, 2.5263, 2.5262, 2.5261, 2.5261, 2.526, 2.5258, 2.5257, 2.5257, 2.5255, 2.5254, 2.5253, 2.5253, 2.5251, 2.5251, 2.525, 2.525, 2.5249, 2.5249, 2.5249, 2.5247, 2.5247, 2.5246, 2.5246, 2.5244, 2.5243, 2.5458, 2.5457, 2.5454, 2.5453, 2.5453, 2.5452, 2.545, 2.5449, 2.5449, 2.5449, 2.5449, 2.5447, 2.5447, 2.5447, 2.5446, 2.5446, 2.5446, 2.5446, 2.5446, 2.5444, 2.5444, 2.5442, 2.5442, 2.5441, 2.5437, 2.5437, 2.5436, 2.5436, 2.5435, 2.5433]}, \"token.table\": {\"Topic\": [7, 7, 10, 7, 7, 4, 9, 1, 6, 5, 4, 7, 2, 10, 6, 9, 2, 7, 9, 5, 9, 10, 7, 5, 10, 10, 4, 6, 4, 6, 2, 2, 5, 5, 8, 10, 3, 4, 9, 1, 8, 8, 4, 9, 9, 1, 6, 8, 3, 2, 5, 3, 9, 10, 4, 8, 2, 4, 8, 9, 3, 1, 1, 1, 7, 2, 8, 6, 6, 9, 10, 5, 5, 7, 1, 7, 6, 5, 7, 4, 5, 2, 4, 7, 1, 6, 4, 4, 3, 9, 4, 8, 10, 1, 8, 2, 1, 8, 2, 3, 9, 6, 6, 9, 6, 3, 1, 3, 4, 7, 10, 9, 5, 3, 5, 8, 9, 1, 10, 1, 2, 5, 3, 5, 6, 6, 3, 9, 7, 6, 3, 1, 2, 4, 5, 3, 10, 8, 8, 1, 9, 2, 4, 5, 1, 9, 1, 7, 7, 7, 3, 2, 7, 2, 2, 10, 1, 6, 8, 3, 4, 2, 3, 4, 5, 4, 3, 4, 5, 2, 2, 6, 3, 9, 6, 6, 7, 1, 10, 3, 5, 6, 10, 6, 10, 8, 2, 10, 2, 8, 10, 6, 7, 8, 5, 1, 9, 10, 9, 10, 4, 7, 1, 2, 8, 2, 10, 6, 10, 7, 5, 1, 3, 3, 3, 5, 5, 3, 10, 6, 8, 7, 6, 1, 10, 4, 2, 8, 8, 6, 6, 6, 8, 3, 10, 9, 9, 9, 8, 9, 2, 8, 1, 3, 1, 4, 4, 8, 7, 9, 3, 7, 7, 6, 4, 7, 4, 2, 6, 2, 10, 10, 1, 5, 1, 1, 2, 8, 4, 10, 1, 1, 10, 8, 3, 3, 7, 5, 9, 7, 3, 9, 5, 4, 8, 2, 7, 5, 8, 5, 9, 4, 4, 5, 9, 8, 3, 10, 2, 5], \"Freq\": [0.9993865790603328, 0.9990761814896448, 0.9982533585546801, 0.9991245237923906, 0.9972969098309913, 0.9986864224370298, 0.998369474101981, 0.9998208730750268, 0.9987441359939926, 0.9996825732379225, 0.9978562584055515, 0.9978047434724808, 0.9996187095484872, 0.9977064375831575, 0.9972698956003412, 0.9996306364282497, 0.9997330881540112, 0.9976253558379559, 0.9987764088594138, 0.9991376016657092, 0.999431088251773, 0.9995567081187234, 0.9991418422560108, 0.999309211949578, 0.9996853500498553, 0.9981010456914147, 0.9990033876304099, 0.9990096340313951, 0.999604613907203, 0.9992703885917645, 0.9998913292548904, 0.9988740662489753, 0.9974555857511952, 0.9987352329266395, 0.9976534214702834, 0.9991704899035788, 0.9985343870301734, 0.9994095214749046, 0.9994603624625543, 0.9982926458286425, 0.9988691806014354, 0.9988666941141049, 0.9982252909880891, 0.9988478865875773, 0.9993124558069805, 0.9984790693649355, 0.9994217310612983, 0.998476055067942, 0.999624445180077, 0.9994233651947351, 0.9980730762706223, 0.9990182493441008, 0.9989384760563306, 0.9989683740324541, 0.9992026043330203, 0.99885499039099, 0.998107239365259, 0.9993584977130558, 0.9996170425928176, 0.9981270586308953, 0.998712683461053, 0.9992715521014811, 0.9968802927245574, 0.9979324765655104, 0.997767289512178, 0.9997061513863889, 0.9986247152003906, 0.9992622332596682, 0.9996027614935361, 0.9998727488076845, 0.996321190307217, 0.999156083007817, 0.9995728705467759, 0.9986741642874178, 0.9999300000962565, 0.9994581932070719, 0.9995132511031024, 0.9980138638891848, 0.9977052365342493, 0.9994287691529392, 0.9996320944172198, 0.9994801527613197, 0.9987744239854647, 0.9973228043249769, 0.9984149833801413, 0.9977513895232237, 0.9983061748631172, 0.9989035249983841, 0.9995685794961313, 0.9988101820247444, 0.998533531570664, 0.9983085342781869, 0.9978579081540195, 0.9998510691654662, 0.9996792310969833, 0.9993175688416029, 0.9998882942849129, 0.9992427084006603, 0.9996525273302951, 0.9984624942372716, 0.9992405807845965, 0.9977413249269846, 0.9987947192296468, 0.9979735450117851, 0.9981261301893057, 0.998700117112301, 0.999359829819011, 0.9987905637569868, 0.9984227599803273, 0.9984845031295385, 0.9978284347840711, 0.9993748585063876, 0.9987699334396752, 0.9982374703619004, 0.9991986696063496, 0.9999403680854082, 0.9993119208844558, 0.9998249270661099, 0.9986043548986295, 0.9995508619811476, 0.9996855049858353, 0.999125497059793, 0.9996435230949784, 0.9986830260752864, 0.9984409902872364, 0.9992375454502171, 0.9989588272258593, 0.998436681005867, 0.9992401319646809, 0.9991081523958878, 0.9990502753064066, 0.9994123284791513, 0.9991631789721113, 0.9990005487747371, 0.9985739463216025, 0.9979930051471231, 0.9987266301382314, 0.9968790691695258, 0.9975510780282897, 0.9990248577488438, 0.9989547964373285, 0.9994148507060546, 0.999472510476013, 0.9998051630304076, 0.9993835989513858, 0.9992823754189916, 0.9982697520846854, 0.9990742593419935, 0.9990077341024273, 0.9997119235309802, 0.9987591547229314, 0.9973316668928157, 0.9978984967832621, 0.9990043775400763, 0.9991280467156229, 0.9980402243215164, 0.9996651378215003, 0.9982952259615819, 0.9971331349803004, 0.9998426412415264, 0.9986899988074233, 0.9986518812608428, 0.999451839860837, 0.9987032170783892, 0.9978386374201991, 0.9998539592864188, 0.9986272201199045, 0.9998842765590302, 0.9978581859481674, 0.998935516392431, 0.998964373276077, 0.9978520526822521, 0.9990312199800828, 0.9985890531911558, 0.9993253723772224, 0.9992665147998964, 0.9986650990979482, 0.9992707871501074, 0.9992333691063289, 0.9981498460607363, 0.9991757597402189, 0.9997493441650361, 0.9982391462632134, 0.9988608434739499, 0.9984738685947082, 0.9973299003193828, 0.9983541789470115, 0.9996425078603427, 0.9994515818659175, 0.9996309758910845, 0.9988626137684381, 0.9974271822732884, 0.9998030014566439, 0.9995945062125116, 0.99914157108894, 0.997635154281836, 0.9981179629747804, 0.9983214239349264, 0.998929867508354, 0.998112125568124, 0.9975359570453004, 0.9981626284810108, 0.9990849014036602, 0.9990331416424547, 0.9989479533704119, 0.9995729672156548, 0.9990138504504982, 0.9986534551384493, 0.9985213450424071, 0.9987455808688226, 0.9988635130959337, 0.9973883344540504, 0.999652487421203, 0.9991491068136437, 0.997958308668495, 0.9994942453627953, 0.9989565247361347, 0.9990945100611468, 0.9993569011517907, 0.9984180513370918, 0.9994713388019536, 0.9986701175990627, 0.9994808349255467, 0.9992614238747265, 0.9989176992048782, 0.9994168052213167, 0.9977565040381443, 0.9980827707159722, 0.9993134400905862, 0.9980475533504687, 0.9992815675781556, 0.9997430494870746, 0.9982900970811419, 0.9994329340417369, 0.9977597312065487, 0.9995430948858316, 0.9995555520633784, 0.9990732801439646, 0.9985830842090501, 0.9975165426321114, 0.9985826314244931, 0.9986155239962733, 0.9998652969993949, 0.998266979597068, 0.9973793606818875, 0.9976950939425459, 0.9992350760158696, 0.9984959485069352, 0.9981830221424227, 0.9981218950045336, 0.9998167305173262, 0.9980459933693498, 0.9985820279575163, 0.9989475686984435, 0.9968735416240134, 0.9998181999473694, 0.9994068387543825, 0.9994557805999349, 0.9983083479773017, 0.99811905259774, 0.9993792037572177, 0.9965632595854536, 0.9996754387907262, 0.9995399315360135, 0.9986930705459972, 0.9978929169813958, 0.9990595212341284, 0.997759393633343, 0.9994379716979568, 0.9984496901799728, 0.9996593614750066, 0.9985871939846211, 0.999056870590059, 0.9982558786842338, 0.998405165370858, 0.999526838575232, 0.9988789190240938, 0.9997794120164372, 0.9964648241567426, 0.9980778060390316, 0.9992116636997443, 0.9994282220224662, 0.9995799229216111, 0.9997655648538605, 0.9983029339361198, 0.997310710632478, 0.9995548503217734, 0.9993214917780334, 0.9971128991867951, 0.9980593351015352, 0.998216922248935, 0.9988476427879656, 0.9986600896035578, 0.9995628921783112, 0.9990559166112483, 0.9960776861294034, 0.999280345690546, 0.9991447374643444, 0.9992223171273302, 0.9979908438931191], \"Term\": [\"\\uac00\\uaca9\", \"\\uac00\\ub2a5\", \"\\uac00\\ub4dd\", \"\\uac00\\uc704\", \"\\uac00\\uc9c0\", \"\\uac01\", \"\\uac04\\uc2dd\", \"\\uac08\\ube44\", \"\\uac08\\ube44\\ucc1c\", \"\\uac10\\uc0ac\", \"\\uac10\\uc790\", \"\\uac71\\uc815\", \"\\uac74\\uac15\", \"\\uacc4\\ub780\", \"\\uace0\\uad6c\\ub9c8\", \"\\uace0\\uae09\", \"\\uace0\\uae30\", \"\\uace0\\ubbfc\", \"\\uace8\\ubc45\\uc774\", \"\\uacf1\\ucc3d\", \"\\uacf3\", \"\\uacf5\\uad6c\", \"\\uacfc\\uc77c\", \"\\uad6c\\uacbd\", \"\\uad6c\\ub9e4\", \"\\uad6c\\uc131\", \"\\uad6c\\uc774\", \"\\uad6d\\ubb3c\", \"\\uad70\\uce68\", \"\\uad7f\", \"\\uaddc\", \"\\uadf8\\ub987\", \"\\uae00\", \"\\uae08\", \"\\uae09\", \"\\uae30\\ub300\", \"\\uae30\\ubd84\", \"\\uae40\\uce58\", \"\\uae84\", \"\\uaf43\", \"\\uafc0\", \"\\uafc0\\ub9db\", \"\\ub05d\", \"\\ub07c\", \"\\ub0a0\", \"\\ub0a0\\uc528\", \"\\ub0c9\", \"\\ub0c9\\uba74\", \"\\ub208\", \"\\ub290\\ub08c\", \"\\ub2d8\", \"\\ub2e4\\uc591\", \"\\ub2e4\\uc74c\", \"\\ub2e4\\uc774\\uc5b4\\ud2b8\", \"\\ub2ed\", \"\\ub2f4\", \"\\ub2f9\", \"\\ub2f9\\uc7a5\", \"\\ub300\\ubc15\", \"\\ub313\\uae00\", \"\\ub370\\uc774\\ud2b8\", \"\\ub3c4\\ub9ac\", \"\\ub3c4\\uc2dc\\ub77d\", \"\\ub450\\ubd80\", \"\\ub514\\uc790\\uc778\", \"\\ub514\\uc800\\ud2b8\", \"\\ub54c\\uae54\", \"\\ub5a1\", \"\\ub5a1\\ubcf6\\uc774\", \"\\ub77c\\uba74\", \"\\ub7a9\", \"\\ub808\\uc2dc\\ud53c\", \"\\ub9c9\\uac78\\ub9ac\", \"\\ub9d8\", \"\\ub9db\", \"\\ub9db\\uc9d1\", \"\\ub9dd\\uace0\", \"\\ub9de\\ud314\", \"\\ub9e5\", \"\\ub9e5\\uc8fc\", \"\\uba39\", \"\\uba54\\ub274\", \"\\uba54\\ubaa8\", \"\\uba74\", \"\\ubaa8\\ucc0c\", \"\\ubab8\", \"\\ubab8\\ubcf4\\uc2e0\", \"\\ubb38\\uc5b4\", \"\\ubb3c\", \"\\ubbf8\\ub098\\ub9ac\", \"\\ubbf8\\uc2dd\", \"\\ubbff\\uba39\", \"\\ubc00\", \"\\ubc15\", \"\\ubc18\\ucc2c\", \"\\ubc24\", \"\\ubc25\", \"\\ubc25\\ub3c4\\ub451\", \"\\ubc25\\uc0c1\", \"\\ubc30\", \"\\ubc84\\uac70\", \"\\ubc84\\ud130\", \"\\ubca0\\uc774\\uae00\", \"\\ubcf4\\uc308\", \"\\ubcf4\\uc57d\", \"\\ubcf4\\uc591\\uc2dd\", \"\\ubcf5\\uc22d\\uc544\", \"\\ubcf6\\uc74c\", \"\\ubcf6\\uc74c\\ubc25\", \"\\ubcfc\", \"\\ubd80\\ud0c1\", \"\\ubd84\\uc704\\uae30\", \"\\ubd88\", \"\\ubdf0\", \"\\ube44\", \"\\ube44\\uc8fc\\uc5bc\", \"\\ube44\\uc920\", \"\\ube44\\uc96c\\uc5bc\", \"\\ube59\\uc218\", \"\\ube75\", \"\\uc0ac\\ub791\", \"\\uc0ac\\uc6a9\", \"\\uc0ac\\uc9c4\", \"\\uc0b4\", \"\\uc0bc\\uacc4\\ud0d5\", \"\\uc0c1\", \"\\uc0c8\\uc6b0\", \"\\uc0c9\", \"\\uc0c9\\uac10\", \"\\uc0cc\\ub4dc\\uc704\\uce58\", \"\\uc0d0\\ub7ec\\ub4dc\", \"\\uc0dd\\uac01\", \"\\uc0dd\\uc77c\", \"\\uc0e4\\ube0c\\uc0e4\\ube0c\", \"\\uc120\", \"\\uc120\\ubb3c\", \"\\uc138\\uc0c1\", \"\\uc138\\ud2b8\", \"\\uc18c\\uace0\\uae30\", \"\\uc18c\\uae08\", \"\\uc18c\\ub9ac\", \"\\uc18c\\uc2a4\", \"\\uc18c\\uc8fc\", \"\\uc18c\\ud1b5\", \"\\uc18d\", \"\\uc190\", \"\\uc1a5\", \"\\uc218\\ubc15\", \"\\uc218\\uc815\", \"\\uc220\", \"\\uc220\\uc548\\uc8fc\", \"\\uc22f\\ubd88\", \"\\uc2a4\\ud0c0\\uc77c\", \"\\uc2a4\\ud14c\\uc774\\ud06c\", \"\\uc2dc\\uac04\", \"\\uc2dc\\uc791\", \"\\uc2e0\\uccad\", \"\\uc2e4\", \"\\uc2e4\\ud654\", \"\\uc300\", \"\\uc308\", \"\\uc544\\uc774\", \"\\uc544\\uce68\", \"\\uc548\", \"\\uc548\\ub155\", \"\\uc548\\uc8fc\", \"\\uc54c\\ub78c\", \"\\uc54c\\ub9bc\", \"\\uc55e\", \"\\uc560\", \"\\uc591\", \"\\uc591\\uace0\\uae30\", \"\\uc591\\ub150\", \"\\uc591\\ud30c\", \"\\uc5b4\\ubb35\", \"\\uc5b8\\ub2c8\", \"\\uc5c4\\ub9c8\", \"\\uc5ec\\ub984\", \"\\uc601\\uc0c1\", \"\\uc601\\uc591\", \"\\uc608\\uc220\", \"\\uc624\\ub298\", \"\\uc624\\ub79c\\ub9cc\", \"\\uc624\\uc9d5\\uc5b4\", \"\\uc624\\ud508\", \"\\uc625\\uc218\\uc218\", \"\\uc640\\uc778\", \"\\uc644\\ub8cc\", \"\\uc644\\ubcbd\", \"\\uc644\\uc804\", \"\\uc655\", \"\\uc694\\uac70\\ud2b8\", \"\\uc694\\ub9ac\", \"\\uc694\\uc998\", \"\\uc6a9\", \"\\uc6b0\\uc720\", \"\\uc6b8\", \"\\uc704\", \"\\uc720\", \"\\uc720\\uae30\\ub18d\", \"\\uc720\\uba85\", \"\\uc720\\uc6a9\", \"\\uc721\\uc218\", \"\\uc721\\uc999\", \"\\uc724\\uae30\", \"\\uc74c\\uc2dd\", \"\\uc751\\uc6d0\", \"\\uc774\\ub984\", \"\\uc774\\ubc88\", \"\\uc774\\uc6a9\", \"\\uc778\", \"\\uc778\\uc815\", \"\\uc785\", \"\\uc785\\ub9db\", \"\\uc790\\uccb4\", \"\\uc794\", \"\\uc7a1\\ucc44\", \"\\uc7a5\", \"\\uc7a5\\ub09c\", \"\\uc7a5\\uc5b4\", \"\\uc7a5\\uc778\", \"\\uc7ac\\ub8cc\", \"\\uc800\\ub141\", \"\\uc800\\uc7a5\", \"\\uc804\", \"\\uc804\\uace8\", \"\\uc815\\ub3c4\", \"\\uc815\\ubcf4\", \"\\uc81c\\ud488\", \"\\uc824\\ub9ac\", \"\\uc870\\uac1c\", \"\\uc870\\ud569\", \"\\uc871\\ubc1c\", \"\\uc885\\ub958\", \"\\uc8fc\", \"\\uc8fc\\ub9d0\", \"\\uc8fc\\ubb38\", \"\\uc8fc\\ubc29\", \"\\uc900\\ube44\", \"\\uc9c0\\uad6c\", \"\\uc9c4\\uc2ec\", \"\\uc9c4\\uc9dc\", \"\\uc9d1\", \"\\uc9f1\", \"\\ucabd\", \"\\ucb48\\uafb8\\ubbf8\", \"\\ucc1c\", \"\\ucc1c\\uae30\", \"\\ucc98\\uc74c\", \"\\ucc9c\\uad6d\", \"\\ucd5c\\uace0\", \"\\ucd94\\ucc9c\", \"\\ucd95\\ud558\", \"\\ucde8\\uc800\", \"\\ucde8\\ud5a5\", \"\\uce58\\uc988\", \"\\uce58\\ud0a8\", \"\\uce68\", \"\\uce68\\uc0d8\", \"\\uce74\\ud398\", \"\\uce7c\", \"\\ucea0\\ud551\", \"\\ucee4\\ud130\", \"\\ucee4\\ud53c\", \"\\ucf00\\uc774\\ud06c\", \"\\ucf69\\ub098\\ubb3c\", \"\\ud004\\ub9ac\\ud2f0\", \"\\ud06c\\uae30\", \"\\ud06c\\ub9bc\", \"\\ud0a4\\ud2b8\", \"\\ud0dd\\ubc30\", \"\\ud1a0\\ub9c8\\ud1a0\", \"\\ud1a0\\ud551\", \"\\ud301\", \"\\ud30c\", \"\\ud30c\\uc2a4\\ud0c0\", \"\\ud30c\\ud2f0\", \"\\ud314\", \"\\ud3ec\\uc7a5\", \"\\ud3ed\\ubc1c\", \"\\ud3fc\", \"\\ud50c\\ub808\\uc774\\ud305\", \"\\ud53c\\ub4dc\", \"\\ud53c\\uc790\", \"\\ud544\\uc218\", \"\\ud544\\uc218\\ud15c\", \"\\ud544\\uc694\", \"\\ud558\\ub8e8\", \"\\ud55c\\uc6b0\", \"\\ud55c\\uc794\", \"\\ud560\\uba38\\ub2c8\", \"\\ud574\\ubb3c\", \"\\ud574\\uc0b0\\ubb3c\", \"\\ud589\\ubcf5\", \"\\ud5a5\", \"\\ud604\\uad00\", \"\\ud669\\uae08\", \"\\ud734\\uac00\", \"\\ud751\", \"\\ud790\\ub9c1\"]}, \"R\": 30, \"lambda.step\": 0.01, \"plot.opts\": {\"xlab\": \"PC1\", \"ylab\": \"PC2\"}, \"topic.order\": [7, 2, 4, 5, 10, 9, 6, 1, 3, 8]};\n",
              "\n",
              "function LDAvis_load_lib(url, callback){\n",
              "  var s = document.createElement('script');\n",
              "  s.src = url;\n",
              "  s.async = true;\n",
              "  s.onreadystatechange = s.onload = callback;\n",
              "  s.onerror = function(){console.warn(\"failed to load library \" + url);};\n",
              "  document.getElementsByTagName(\"head\")[0].appendChild(s);\n",
              "}\n",
              "\n",
              "if(typeof(LDAvis) !== \"undefined\"){\n",
              "   // already loaded: just create the visualization\n",
              "   !function(LDAvis){\n",
              "       new LDAvis(\"#\" + \"ldavis_el268631402061377426562321310961\", ldavis_el268631402061377426562321310961_data);\n",
              "   }(LDAvis);\n",
              "}else if(typeof define === \"function\" && define.amd){\n",
              "   // require.js is available: use it to load d3/LDAvis\n",
              "   require.config({paths: {d3: \"https://d3js.org/d3.v5\"}});\n",
              "   require([\"d3\"], function(d3){\n",
              "      window.d3 = d3;\n",
              "      LDAvis_load_lib(\"https://cdn.jsdelivr.net/gh/bmabey/pyLDAvis@3.4.0/pyLDAvis/js/ldavis.v3.0.0.js\", function(){\n",
              "        new LDAvis(\"#\" + \"ldavis_el268631402061377426562321310961\", ldavis_el268631402061377426562321310961_data);\n",
              "      });\n",
              "    });\n",
              "}else{\n",
              "    // require.js not available: dynamically load d3 & LDAvis\n",
              "    LDAvis_load_lib(\"https://d3js.org/d3.v5.js\", function(){\n",
              "         LDAvis_load_lib(\"https://cdn.jsdelivr.net/gh/bmabey/pyLDAvis@3.4.0/pyLDAvis/js/ldavis.v3.0.0.js\", function(){\n",
              "                 new LDAvis(\"#\" + \"ldavis_el268631402061377426562321310961\", ldavis_el268631402061377426562321310961_data);\n",
              "            })\n",
              "         });\n",
              "}\n",
              "</script>"
            ],
            "text/plain": [
              "<IPython.core.display.HTML object>"
            ]
          },
          "execution_count": 68,
          "metadata": {},
          "output_type": "execute_result"
        }
      ],
      "source": [
        "pyLDAvis.enable_notebook()\n",
        "vis = pyLDAvis.gensim_models.prepare(model, corpus, dic)\n",
        "pyLDAvis.display(vis)"
      ]
    }
  ],
  "metadata": {
    "colab": {
      "machine_shape": "hm",
      "toc_visible": true,
      "provenance": [],
      "include_colab_link": true
    },
    "kernelspec": {
      "display_name": "Python 3",
      "name": "python3"
    },
    "language_info": {
      "codemirror_mode": {
        "name": "ipython",
        "version": 3
      },
      "file_extension": ".py",
      "mimetype": "text/x-python",
      "name": "python",
      "nbconvert_exporter": "python",
      "pygments_lexer": "ipython3",
      "version": "3.9.13"
    },
    "widgets": {
      "application/vnd.jupyter.widget-state+json": {
        "017fc97c8bf745759580a827d01da940": {
          "model_module": "@jupyter-widgets/controls",
          "model_module_version": "1.5.0",
          "model_name": "DescriptionStyleModel",
          "state": {
            "_model_module": "@jupyter-widgets/controls",
            "_model_module_version": "1.5.0",
            "_model_name": "DescriptionStyleModel",
            "_view_count": null,
            "_view_module": "@jupyter-widgets/base",
            "_view_module_version": "1.2.0",
            "_view_name": "StyleView",
            "description_width": ""
          }
        },
        "03f70108f0d94834ae8a4c284f4c104f": {
          "model_module": "@jupyter-widgets/controls",
          "model_module_version": "1.5.0",
          "model_name": "HTMLModel",
          "state": {
            "_dom_classes": [],
            "_model_module": "@jupyter-widgets/controls",
            "_model_module_version": "1.5.0",
            "_model_name": "HTMLModel",
            "_view_count": null,
            "_view_module": "@jupyter-widgets/controls",
            "_view_module_version": "1.5.0",
            "_view_name": "HTMLView",
            "description": "",
            "description_tooltip": null,
            "layout": "IPY_MODEL_d9090134012745a8a97608b5b308b826",
            "placeholder": "​",
            "style": "IPY_MODEL_fe530f3a6e964c85818b8cb69d541f4b",
            "value": " 13/13 [56:49&lt;00:00, 274.50s/it]"
          }
        },
        "042fba727b3746e2aa7a858dc1f7455d": {
          "model_module": "@jupyter-widgets/controls",
          "model_module_version": "1.5.0",
          "model_name": "HBoxModel",
          "state": {
            "_dom_classes": [],
            "_model_module": "@jupyter-widgets/controls",
            "_model_module_version": "1.5.0",
            "_model_name": "HBoxModel",
            "_view_count": null,
            "_view_module": "@jupyter-widgets/controls",
            "_view_module_version": "1.5.0",
            "_view_name": "HBoxView",
            "box_style": "",
            "children": [
              "IPY_MODEL_c825c2721d0a4361942c913efc2fdcc1",
              "IPY_MODEL_29f422cebc51496f848a6db4db7bac3a",
              "IPY_MODEL_03f70108f0d94834ae8a4c284f4c104f"
            ],
            "layout": "IPY_MODEL_f8084b1b3ddf4390991d759b75ac3dc1"
          }
        },
        "06e3eb288a8c4f9ba119ac3c502fcae0": {
          "model_module": "@jupyter-widgets/base",
          "model_module_version": "1.2.0",
          "model_name": "LayoutModel",
          "state": {
            "_model_module": "@jupyter-widgets/base",
            "_model_module_version": "1.2.0",
            "_model_name": "LayoutModel",
            "_view_count": null,
            "_view_module": "@jupyter-widgets/base",
            "_view_module_version": "1.2.0",
            "_view_name": "LayoutView",
            "align_content": null,
            "align_items": null,
            "align_self": null,
            "border": null,
            "bottom": null,
            "display": null,
            "flex": null,
            "flex_flow": null,
            "grid_area": null,
            "grid_auto_columns": null,
            "grid_auto_flow": null,
            "grid_auto_rows": null,
            "grid_column": null,
            "grid_gap": null,
            "grid_row": null,
            "grid_template_areas": null,
            "grid_template_columns": null,
            "grid_template_rows": null,
            "height": null,
            "justify_content": null,
            "justify_items": null,
            "left": null,
            "margin": null,
            "max_height": null,
            "max_width": null,
            "min_height": null,
            "min_width": null,
            "object_fit": null,
            "object_position": null,
            "order": null,
            "overflow": null,
            "overflow_x": null,
            "overflow_y": null,
            "padding": null,
            "right": null,
            "top": null,
            "visibility": null,
            "width": null
          }
        },
        "29f422cebc51496f848a6db4db7bac3a": {
          "model_module": "@jupyter-widgets/controls",
          "model_module_version": "1.5.0",
          "model_name": "FloatProgressModel",
          "state": {
            "_dom_classes": [],
            "_model_module": "@jupyter-widgets/controls",
            "_model_module_version": "1.5.0",
            "_model_name": "FloatProgressModel",
            "_view_count": null,
            "_view_module": "@jupyter-widgets/controls",
            "_view_module_version": "1.5.0",
            "_view_name": "ProgressView",
            "bar_style": "success",
            "description": "",
            "description_tooltip": null,
            "layout": "IPY_MODEL_06e3eb288a8c4f9ba119ac3c502fcae0",
            "max": 13,
            "min": 0,
            "orientation": "horizontal",
            "style": "IPY_MODEL_8cbb7b788e0c44f29641071b089b70c7",
            "value": 13
          }
        },
        "2e56d38f5aba4b0cb76e5bc7d5da2a96": {
          "model_module": "@jupyter-widgets/base",
          "model_module_version": "1.2.0",
          "model_name": "LayoutModel",
          "state": {
            "_model_module": "@jupyter-widgets/base",
            "_model_module_version": "1.2.0",
            "_model_name": "LayoutModel",
            "_view_count": null,
            "_view_module": "@jupyter-widgets/base",
            "_view_module_version": "1.2.0",
            "_view_name": "LayoutView",
            "align_content": null,
            "align_items": null,
            "align_self": null,
            "border": null,
            "bottom": null,
            "display": null,
            "flex": null,
            "flex_flow": null,
            "grid_area": null,
            "grid_auto_columns": null,
            "grid_auto_flow": null,
            "grid_auto_rows": null,
            "grid_column": null,
            "grid_gap": null,
            "grid_row": null,
            "grid_template_areas": null,
            "grid_template_columns": null,
            "grid_template_rows": null,
            "height": null,
            "justify_content": null,
            "justify_items": null,
            "left": null,
            "margin": null,
            "max_height": null,
            "max_width": null,
            "min_height": null,
            "min_width": null,
            "object_fit": null,
            "object_position": null,
            "order": null,
            "overflow": null,
            "overflow_x": null,
            "overflow_y": null,
            "padding": null,
            "right": null,
            "top": null,
            "visibility": null,
            "width": null
          }
        },
        "8cbb7b788e0c44f29641071b089b70c7": {
          "model_module": "@jupyter-widgets/controls",
          "model_module_version": "1.5.0",
          "model_name": "ProgressStyleModel",
          "state": {
            "_model_module": "@jupyter-widgets/controls",
            "_model_module_version": "1.5.0",
            "_model_name": "ProgressStyleModel",
            "_view_count": null,
            "_view_module": "@jupyter-widgets/base",
            "_view_module_version": "1.2.0",
            "_view_name": "StyleView",
            "bar_color": null,
            "description_width": ""
          }
        },
        "c825c2721d0a4361942c913efc2fdcc1": {
          "model_module": "@jupyter-widgets/controls",
          "model_module_version": "1.5.0",
          "model_name": "HTMLModel",
          "state": {
            "_dom_classes": [],
            "_model_module": "@jupyter-widgets/controls",
            "_model_module_version": "1.5.0",
            "_model_name": "HTMLModel",
            "_view_count": null,
            "_view_module": "@jupyter-widgets/controls",
            "_view_module_version": "1.5.0",
            "_view_name": "HTMLView",
            "description": "",
            "description_tooltip": null,
            "layout": "IPY_MODEL_2e56d38f5aba4b0cb76e5bc7d5da2a96",
            "placeholder": "​",
            "style": "IPY_MODEL_017fc97c8bf745759580a827d01da940",
            "value": "100%"
          }
        },
        "d9090134012745a8a97608b5b308b826": {
          "model_module": "@jupyter-widgets/base",
          "model_module_version": "1.2.0",
          "model_name": "LayoutModel",
          "state": {
            "_model_module": "@jupyter-widgets/base",
            "_model_module_version": "1.2.0",
            "_model_name": "LayoutModel",
            "_view_count": null,
            "_view_module": "@jupyter-widgets/base",
            "_view_module_version": "1.2.0",
            "_view_name": "LayoutView",
            "align_content": null,
            "align_items": null,
            "align_self": null,
            "border": null,
            "bottom": null,
            "display": null,
            "flex": null,
            "flex_flow": null,
            "grid_area": null,
            "grid_auto_columns": null,
            "grid_auto_flow": null,
            "grid_auto_rows": null,
            "grid_column": null,
            "grid_gap": null,
            "grid_row": null,
            "grid_template_areas": null,
            "grid_template_columns": null,
            "grid_template_rows": null,
            "height": null,
            "justify_content": null,
            "justify_items": null,
            "left": null,
            "margin": null,
            "max_height": null,
            "max_width": null,
            "min_height": null,
            "min_width": null,
            "object_fit": null,
            "object_position": null,
            "order": null,
            "overflow": null,
            "overflow_x": null,
            "overflow_y": null,
            "padding": null,
            "right": null,
            "top": null,
            "visibility": null,
            "width": null
          }
        },
        "f8084b1b3ddf4390991d759b75ac3dc1": {
          "model_module": "@jupyter-widgets/base",
          "model_module_version": "1.2.0",
          "model_name": "LayoutModel",
          "state": {
            "_model_module": "@jupyter-widgets/base",
            "_model_module_version": "1.2.0",
            "_model_name": "LayoutModel",
            "_view_count": null,
            "_view_module": "@jupyter-widgets/base",
            "_view_module_version": "1.2.0",
            "_view_name": "LayoutView",
            "align_content": null,
            "align_items": null,
            "align_self": null,
            "border": null,
            "bottom": null,
            "display": null,
            "flex": null,
            "flex_flow": null,
            "grid_area": null,
            "grid_auto_columns": null,
            "grid_auto_flow": null,
            "grid_auto_rows": null,
            "grid_column": null,
            "grid_gap": null,
            "grid_row": null,
            "grid_template_areas": null,
            "grid_template_columns": null,
            "grid_template_rows": null,
            "height": null,
            "justify_content": null,
            "justify_items": null,
            "left": null,
            "margin": null,
            "max_height": null,
            "max_width": null,
            "min_height": null,
            "min_width": null,
            "object_fit": null,
            "object_position": null,
            "order": null,
            "overflow": null,
            "overflow_x": null,
            "overflow_y": null,
            "padding": null,
            "right": null,
            "top": null,
            "visibility": null,
            "width": null
          }
        },
        "fe530f3a6e964c85818b8cb69d541f4b": {
          "model_module": "@jupyter-widgets/controls",
          "model_module_version": "1.5.0",
          "model_name": "DescriptionStyleModel",
          "state": {
            "_model_module": "@jupyter-widgets/controls",
            "_model_module_version": "1.5.0",
            "_model_name": "DescriptionStyleModel",
            "_view_count": null,
            "_view_module": "@jupyter-widgets/base",
            "_view_module_version": "1.2.0",
            "_view_name": "StyleView",
            "description_width": ""
          }
        }
      }
    }
  },
  "nbformat": 4,
  "nbformat_minor": 0
}